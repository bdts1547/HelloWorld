{
  "nbformat": 4,
  "nbformat_minor": 0,
  "metadata": {
    "colab": {
      "name": "Doimoi.ipynb",
      "provenance": [],
      "mount_file_id": "1v_LuNHIdKSXwSrn9JI4Wlo4rEZEamC_g",
      "authorship_tag": "ABX9TyMllbOsLisDtz4WJhSGt2F0",
      "include_colab_link": true
    },
    "kernelspec": {
      "name": "python3",
      "display_name": "Python 3"
    },
    "language_info": {
      "name": "python"
    }
  },
  "cells": [
    {
      "cell_type": "markdown",
      "metadata": {
        "id": "view-in-github",
        "colab_type": "text"
      },
      "source": [
        "<a href=\"https://colab.research.google.com/github/bdts1547/CS112.L21.KHTN_N11/blob/main/Homework/Week3/Doimoi.ipynb\" target=\"_parent\"><img src=\"https://colab.research.google.com/assets/colab-badge.svg\" alt=\"Open In Colab\"/></a>"
      ]
    },
    {
      "cell_type": "markdown",
      "metadata": {
        "id": "5brpL1SepD1r"
      },
      "source": [
        "#ĐỔI MỚI\n",
        "#Đề bài"
      ]
    },
    {
      "cell_type": "markdown",
      "metadata": {
        "id": "Sh20D-DPpQO2"
      },
      "source": [
        "Thành phố quyết định chặt hạ hết n cây xanh hiện có trong thành phố để trồng chỉ một loại cây mới. Nhiệm vụ được giao cho Công ty Cây xanh thành phố. Do hạn chế về thiết bị Công ty chỉ tổ chức được 2 đội đốn hạ cây. Đội I hạ được a cây mỗi ngày, nhưng cứ mối ngày thứ k thì phải nghỉ để bảo dưỡng kỹ thuật, tức là đội I sẽ nghỉ vào các ngày k, 2k, 3k, . . . Đội II hạ được b cây mỗi ngày, nhưng cứ mỗi ngày thứ m thì phải nghỉ để bảo dưỡng kỹ thuật, tức là đội II sẽ nghỉ vào các ngày m, 2m, 3m, . . . Ở ngày nghỉ, số cây chặt hạ của đội sẽ là 0. Cả hai đội bắt đầu công việc vào cùng một ngày và làm việc song song với nhau.\n",
        "\n",
        "Công việc trồng cây mới sẽ bắt đầu sau khi toàn bộ cây cũ đã bị đốn hạ.\n",
        "\n",
        "Hãy xác định sau bao nhiêu ngày thì có thể bắt đầu việc trồng mới cây.\n",
        "\n",
        "Dữ liệu: Vào từ thiết bị nhập chuẩn gồm một dòng chứa 5 số nguyên a, k, b, m và n (1 ≤ a, b ≤ $10^9$, 2 ≤ k, m ≤ $10^{18}$, 1 ≤ n ≤ $10^{18}$).\n",
        "\n",
        "Kết quả: Đưa ra thiết bị xuất chuẩn một số nguyên – số ngày tính được."
      ]
    },
    {
      "cell_type": "markdown",
      "metadata": {
        "id": "pMpZG3llpfRT"
      },
      "source": [
        "# 1. Abstraction"
      ]
    },
    {
      "cell_type": "markdown",
      "metadata": {
        "id": "BnApHyKgpilN"
      },
      "source": [
        "Tìm nhiệm nhỏ nhất thỏa mãn bất phương trình: n<= $x*a$ - $[x/k]*a$ + $x*b$ - $[x/m]*b$, với (1 ≤ a, b ≤ $10^9$, 2 ≤ k, m ≤ $10^{18}$, 1 ≤ n ≤ $10^{18}$)."
      ]
    },
    {
      "cell_type": "markdown",
      "metadata": {
        "id": "QK17-fwcpl1K"
      },
      "source": [
        "# 2. Pattern Recognition:"
      ]
    },
    {
      "cell_type": "markdown",
      "metadata": {
        "id": "Q4AVjDBqppcv"
      },
      "source": [
        "i. Dùng công thức rút ra từ đề bài và vét cạn\n"
      ]
    },
    {
      "cell_type": "markdown",
      "metadata": {
        "id": "n4SmJ9y9ppra"
      },
      "source": [
        "# 3. Algorithm designed:"
      ]
    },
    {
      "cell_type": "markdown",
      "metadata": {
        "id": "cYPK3kurps2p"
      },
      "source": [
        "i. Tìm giá trị trung bình trong tập nghiệm của x trong bất phương trình bằng công thức: x0= n /(a + b- a/k + b/m)).\n",
        "\n",
        "ii. Sử dụng phương pháp vét cạn khi lấy vị trí bắt đầu là x=x0 sao cho x là nhỏ nhất  thỏa mãn bất phương trình: n<= $x*a$ - $[x/k]*a$ + $x*b$ - $[x/m]*b$."
      ]
    },
    {
      "cell_type": "markdown",
      "metadata": {
        "id": "X98HyxIDptGX"
      },
      "source": [
        "# 4. Đánh giá độ phức tạp thuật toán"
      ]
    },
    {
      "cell_type": "markdown",
      "metadata": {
        "id": "3X4BiA5_pxKG"
      },
      "source": [
        "O(1) "
      ]
    },
    {
      "cell_type": "markdown",
      "metadata": {
        "id": "qbRtADaPpxph"
      },
      "source": [
        "# 5. Programming:"
      ]
    },
    {
      "cell_type": "code",
      "metadata": {
        "colab": {
          "base_uri": "https://localhost:8080/"
        },
        "id": "gD3sBeNDxkLl",
        "outputId": "d4a4d40d-9a85-41e0-e2ef-487b72f6e622"
      },
      "source": [
        "A=[]\n",
        "A = list(map(int, input().split())) #nhap lan luot a, k, b, m , n vao mang a\n",
        "temp=A[0]+A[2]\n",
        "s=A[4]/(temp-(A[0]/A[1]+A[2] /A[3]))\n",
        "s=int(s)\n",
        "while(A[4]-s*temp+(s//A[1] *A[0]+s//A[3] *A[2])<=0):\n",
        "   s=s-1\n",
        "while(A[4]-s*temp+(s//A[1] *A[0]+s//A[3] *A[2])>0):\n",
        "   s=s+1\n",
        "print(s)"
      ],
      "execution_count": 2,
      "outputs": [
        {
          "output_type": "stream",
          "text": [
            "2 4 3 3 25\n",
            "7\n"
          ],
          "name": "stdout"
        }
      ]
    }
  ]
}