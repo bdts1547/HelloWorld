{
  "nbformat": 4,
  "nbformat_minor": 0,
  "metadata": {
    "colab": {
      "name": "WaterSupply.ipynb",
      "provenance": [],
      "collapsed_sections": [],
      "authorship_tag": "ABX9TyMQoHY0foVikDBNVyU8IgV9",
      "include_colab_link": true
    },
    "kernelspec": {
      "name": "python3",
      "display_name": "Python 3"
    },
    "language_info": {
      "name": "python"
    }
  },
  "cells": [
    {
      "cell_type": "markdown",
      "metadata": {
        "id": "view-in-github",
        "colab_type": "text"
      },
      "source": [
        "<a href=\"https://colab.research.google.com/github/bdts1547/CS112.L21.KHTN_N11/blob/main/Homework/Week3/WaterSupply.ipynb\" target=\"_parent\"><img src=\"https://colab.research.google.com/assets/colab-badge.svg\" alt=\"Open In Colab\"/></a>"
      ]
    },
    {
      "cell_type": "markdown",
      "metadata": {
        "id": "aaOFd-A5dDpH"
      },
      "source": [
        "#Hệ thống cấp nước\n",
        "Vùng đất diệu kỳ Wonderland có N hộ gia đình đã được trang bị một hệ thống cung cấp nước sạch đến từng ngôi nhà. Mỗi đường ống nối trực tiếp 2 nhà, nước chảy trong đường ống theo 2 chiều, có thể truyền qua nhiều trung gian trước khi đến một nhà nào đó. Trong hồ sơ lưu trữ, các ngôi nhà được ghi số từ 1 đến N.\n",
        "\n",
        "Một trận động đất đã gây nên sự cố nghiêm trọng làm cho cả vùng bị chia cắt thành nhiều khu vực rời nhau, không còn tiếp cận được với nguồn nước. Để khắc phục, những người có trách nhiệm đã khảo sát hiện trạng và ghi nhận được toàn vùng đất đang thảm họa vẫn còn M đường ống đang hoạt động tốt.\n",
        "\n",
        "Nhiệm vụ đặt ra là phải khôi phục hệ thống cấp nước bằng cách lắp thêm một số đường ống. Tuy nhiên, do hạn chế về thời gian và kinh phí nên đòi hỏi phương án khôi phục phải được thực hiện với ít đường ống được lắp thêm nhất. Câu hỏi đặt ra: cần lắp thêm ít nhất bao nhiêu đường ống để hệ thống cấp nước có thể đưa nước đến từng ngôi nhà. Câu hỏi phụ: có bao nhiêu phương án khác nhau đáp ứng yêu cầu; số phương án có thể khá lớn nên chỉ cần đưa ra số dư khi chia cho $10^9+7.$\n",
        "\n",
        "**Dữ liệu:** Vào từ thiết bị nhập chuẩn:\n",
        "\n",
        "\n",
        "*   Dòng đầu tiên chứa 2 số nguyên N, M (1 ≤ N, M  ≤ $10^5$)\n",
        "\n",
        "*   Mỗi dòng trong M dòng tiếp theo chứa 2 số nguyên a, b (1 ≤ a,  b ≤ N). cho biết vẫn còn đường ống nối nhà a với nhà b\n",
        "\n",
        "\n",
        "**Kết quả:** Đưa ra thiết bị xuất chuẩn số đường ống cần được lắp thêm và số phương án đáp ứng yêu cầu (theo mô đun $10^9+7$) mỗi số trên một dòng.\n",
        "\n",
        "**Dữ liệu mẫu:**\n",
        "\n",
        "---\n",
        "|Input                     ||        | Output|\n",
        "|---------------------     ||        | ---   |\n",
        "|3 1                       ||        |1      |\n",
        "|1 2                       ||        |2      |\n",
        "\n",
        "# **1.Abstraction**\n",
        "Cho đồ thị vô hướng n đỉnh và m cạnh. Tìm số cạnh ít nhất để nối các thành phần liên thông và số cách có thể có.\n",
        "# **2.Pattern Recognition**\n",
        "Dạng bài: Bài toán đồ thị DFS, nối các thành phần liên thông, bài toán đếm\n",
        "# **3.Algorithm designed**\n",
        "*   Pseudo Code:\n",
        "\n",
        "\n",
        "    def WaterSupply(N_house, pipe, graph):\n",
        "    addEdge(pipe,graph)\n",
        "    to_collect = set()\n",
        "    collected = set()\n",
        "    k = 0\n",
        "    sum = 1\n",
        "    for v in range(1,N_house + 1):\n",
        "        if v not in collected:\n",
        "            to_collect.add(v)\n",
        "            k += 1\n",
        "            vertex = 0\n",
        "            while(len(to_collect) > 0):\n",
        "                node = to_collect.pop()\n",
        "                vertex += 1\n",
        "                collected.add(node)\n",
        "                for i in graph[node]:\n",
        "                    if i not in collected:\n",
        "                        to_collect.add(i)\n",
        "            sum = (sum * vertex)\n",
        "    print(k - 1)\n",
        "    if k == 1:\n",
        "        print(0)\n",
        "    else:\n",
        "        sum = sum * (n ** (k - 2)) % (10**9 + 7)\n",
        "        print(sum)\n",
        "\n",
        "\n",
        "\n",
        "\n",
        "  \n",
        "\n",
        "\n",
        "# **4.Đánh giá độ phức tạp thuật toán**\n",
        "Độ phức tạp: O(V + E)\n",
        "\n",
        "\n",
        "*   V: là số đỉnh của đồ thị\n",
        "*   E: là số cạnh cảu đồ thị\n",
        "\n",
        "\n",
        "\n",
        "# **5.Programming**\n"
      ]
    },
    {
      "cell_type": "code",
      "metadata": {
        "id": "PKUT247ifOpG"
      },
      "source": [
        "import sys\n",
        "from collections import defaultdict\n",
        "\n",
        "\n",
        "def addEdge(pipe, graph):\n",
        "    for i in range(pipe):\n",
        "        x,y = map(int, sys.stdin.readline().strip().split())\n",
        "        graph[x].append(y)\n",
        "        graph[y].append(x)\n",
        "\n",
        "\n",
        "def WaterSupply(N_house, pipe, graph):\n",
        "    addEdge(pipe,graph)\n",
        "    to_collect = set()\n",
        "    collected = set()\n",
        "    k = 0\n",
        "    sum = 1\n",
        "    for v in range(1,N_house + 1):\n",
        "        if v not in collected:\n",
        "            to_collect.add(v)\n",
        "            k += 1\n",
        "            vertex = 0\n",
        "            while(len(to_collect) > 0):\n",
        "                node = to_collect.pop()\n",
        "                vertex += 1\n",
        "                collected.add(node)\n",
        "                for i in graph[node]:\n",
        "                    if i not in collected:\n",
        "                        to_collect.add(i)\n",
        "            sum = (sum * vertex)\n",
        "    print(k - 1)\n",
        "    if k == 1:\n",
        "        print(0)\n",
        "    else:\n",
        "        sum = sum * (n ** (k - 2)) % (10**9 + 7)\n",
        "        print(sum)\n",
        "\n",
        "n,m = map(int, sys.stdin.readline().strip().split())\n",
        "graph = defaultdict(list)\n",
        "WaterSupply(n, m, graph)"
      ],
      "execution_count": null,
      "outputs": []
    },
    {
      "cell_type": "code",
      "metadata": {
        "id": "tDd3b9JIdS1M"
      },
      "source": [
        ""
      ],
      "execution_count": null,
      "outputs": []
    }
  ]
}
