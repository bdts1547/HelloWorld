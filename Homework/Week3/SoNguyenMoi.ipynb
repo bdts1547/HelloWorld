{
  "nbformat": 4,
  "nbformat_minor": 0,
  "metadata": {
    "colab": {
      "name": "SoNguyenMoi.ipynb",
      "provenance": [],
      "collapsed_sections": [],
      "authorship_tag": "ABX9TyMc+8sSc1QuieGqzgpNi9Oh",
      "include_colab_link": true
    },
    "kernelspec": {
      "name": "python3",
      "display_name": "Python 3"
    },
    "language_info": {
      "name": "python"
    }
  },
  "cells": [
    {
      "cell_type": "markdown",
      "metadata": {
        "id": "view-in-github",
        "colab_type": "text"
      },
      "source": [
        "<a href=\"https://colab.research.google.com/github/bdts1547/CS112.L21.KHTN_N11/blob/main/Homework/Week3/SoNguyenMoi.ipynb\" target=\"_parent\"><img src=\"https://colab.research.google.com/assets/colab-badge.svg\" alt=\"Open In Colab\"/></a>"
      ]
    },
    {
      "cell_type": "markdown",
      "metadata": {
        "id": "kVn7f6E9iRgS"
      },
      "source": [
        "# Số Nguyên Mới\n",
        "\n",
        "#Đề bài"
      ]
    },
    {
      "cell_type": "markdown",
      "metadata": {
        "id": "dMvH1UdBih22"
      },
      "source": [
        "Cho số nguyên dương n có không quá 100 chữ số. Hãy xác định số nguyên lớn nhất m chia hết cho 3 và khác n ở đúng một chữ số.\n",
        "\n",
        "Ví dụ, n = 123 thì m sẽ là 723.\n",
        "\n",
        "Dữ liệu: Vào từ thiết bị nhập chuẩn gồm một dòng chứa số nguyên n có không quá 100 chữ số và không chứa các số 0 không có nghĩa.\n",
        "\n",
        "Kết quả: Đưa ra thiết bị xuất chuẩn số nguyên m tìm được."
      ]
    },
    {
      "cell_type": "markdown",
      "metadata": {
        "id": "r12G94eXimuK"
      },
      "source": [
        "# 1. Abstraction"
      ]
    },
    {
      "cell_type": "markdown",
      "metadata": {
        "id": "XWfX7cRcixHw"
      },
      "source": [
        "Tìm số lớn nhất có thể, chia hết cho 3 và khác số ban đầu một vị trí."
      ]
    },
    {
      "cell_type": "markdown",
      "metadata": {
        "id": "-PFU6qRLjLcl"
      },
      "source": [
        "# 2. Pattern Recognition: "
      ]
    },
    {
      "cell_type": "markdown",
      "metadata": {
        "id": "e6oo9WdujP_5"
      },
      "source": [
        "Tìm tuyến tính"
      ]
    },
    {
      "cell_type": "markdown",
      "metadata": {
        "id": "pS4sLptYjmDW"
      },
      "source": [
        "# 3. Algorithm designed: "
      ]
    },
    {
      "cell_type": "markdown",
      "metadata": {
        "id": "MVTle1h3jqdF"
      },
      "source": [
        "\n",
        "\n",
        "-Nhập vào số n là chuỗi.\n",
        "\n",
        "-Duyệt chuỗi từ 0 đến chiều dài của chuỗi.\n",
        "\n",
        "-Ở mỗi bước ta lấy số b bằng phần nguyên lấy từ chuỗi n bỏ đi phần tử tại bước đó. \n",
        "\n",
        "-Tại mỗi bước nếu tổng của b và số tìm được nằm trong khoảng từ 9 tới phần nguyên của chuỗi n tại bước đó  chia hết cho 3 thì kết thúc tìm kiếm.\n",
        "\n",
        "-Số cần thay thế là số ở bước ta đang xét và số tìm được là số để thay thế.\n",
        "\n"
      ]
    },
    {
      "cell_type": "markdown",
      "metadata": {
        "id": "cxOP8Rlijq6o"
      },
      "source": [
        "#4. Đánh giá độ phức tạp thuật toán"
      ]
    },
    {
      "cell_type": "markdown",
      "metadata": {
        "id": "mZN1BPcCjvP-"
      },
      "source": [
        "\n",
        "O(n)\n",
        "\n"
      ]
    },
    {
      "cell_type": "markdown",
      "metadata": {
        "id": "pKG2DWU0jyNO"
      },
      "source": [
        "# 5. Programming: "
      ]
    },
    {
      "cell_type": "code",
      "metadata": {
        "colab": {
          "base_uri": "https://localhost:8080/"
        },
        "id": "c-hP0zOMILqc",
        "outputId": "ae1bcd63-48aa-4ff4-caa1-98546e7a659b"
      },
      "source": [
        "def songuyenmoi(a):\n",
        "  if (int(a) < 10):\n",
        "    for i in range(9,0,-3):\n",
        "      if (i != int(a)):\n",
        "        return i;\n",
        "  for i in range(0,len(a)):\n",
        "    #print(a[:i],\" \",a[i+1:])\n",
        "    b = a[:i] + a[i+1:]\n",
        "    b = int(b)\n",
        "    #print(b)\n",
        "    for j in range(9,int(a[i]),-1):\n",
        "      if ((b + j) % 3 == 0):\n",
        "        return a[:i] + str(j) +a[i+1:]\n",
        "  b = int(a)\n",
        "  b -= 1\n",
        "  while (b % 3 != 0):\n",
        "    b -= 1\n",
        "  return b\n",
        "\n",
        "a = input().strip()\n",
        "\n",
        "print(songuyenmoi(a))"
      ],
      "execution_count": 1,
      "outputs": [
        {
          "output_type": "stream",
          "text": [
            "123\n",
            "723\n"
          ],
          "name": "stdout"
        }
      ]
    }
  ]
}