{
  "nbformat": 4,
  "nbformat_minor": 0,
  "metadata": {
    "colab": {
      "name": "SoNguyenMoi.ipynb",
      "provenance": [],
      "mount_file_id": "1H3kIsPcr0pKFeUubvRCHtHGWyTdMiQPR",
      "authorship_tag": "ABX9TyM6z9GrbDtt4Y2T6ykKAAHm",
      "include_colab_link": true
    },
    "kernelspec": {
      "name": "python3",
      "display_name": "Python 3"
    },
    "language_info": {
      "name": "python"
    }
  },
  "cells": [
    {
      "cell_type": "markdown",
      "metadata": {
        "id": "view-in-github",
        "colab_type": "text"
      },
      "source": [
        "<a href=\"https://colab.research.google.com/github/bdts1547/CS112.L21.KHTN_N11/blob/main/Homework/Week3/SoNguyenMoi.ipynb\" target=\"_parent\"><img src=\"https://colab.research.google.com/assets/colab-badge.svg\" alt=\"Open In Colab\"/></a>"
      ]
    },
    {
      "cell_type": "markdown",
      "metadata": {
        "id": "kVn7f6E9iRgS"
      },
      "source": [
        "# Số Nguyên Mới\n",
        "\n",
        "#Đề bài"
      ]
    },
    {
      "cell_type": "markdown",
      "metadata": {
        "id": "dMvH1UdBih22"
      },
      "source": [
        "Cho số nguyên dương n có không quá 100 chữ số. Hãy xác định số nguyên lớn nhất m chia hết cho 3 và khác n ở đúng một chữ số.\n",
        "\n",
        "Ví dụ, n = 123 thì m sẽ là 723.\n",
        "\n",
        "Dữ liệu: Vào từ thiết bị nhập chuẩn gồm một dòng chứa số nguyên n có không quá 100 chữ số và không chứa các số 0 không có nghĩa.\n",
        "\n",
        "Kết quả: Đưa ra thiết bị xuất chuẩn số nguyên m tìm được."
      ]
    },
    {
      "cell_type": "markdown",
      "metadata": {
        "id": "r12G94eXimuK"
      },
      "source": [
        "# 1. Abstraction"
      ]
    },
    {
      "cell_type": "markdown",
      "metadata": {
        "id": "XWfX7cRcixHw"
      },
      "source": [
        "Sửa số nguyên ban đầu thành số lớn nhất có thể, chia hết cho 3 và khác số ban đầu một vị trí."
      ]
    },
    {
      "cell_type": "markdown",
      "metadata": {
        "id": "-PFU6qRLjLcl"
      },
      "source": [
        "# 2. Pattern Recognition: "
      ]
    },
    {
      "cell_type": "markdown",
      "metadata": {
        "id": "e6oo9WdujP_5"
      },
      "source": [
        "Tìm tuyến tính"
      ]
    },
    {
      "cell_type": "markdown",
      "metadata": {
        "id": "pS4sLptYjmDW"
      },
      "source": [
        "# 3. Algorithm designed: "
      ]
    },
    {
      "cell_type": "markdown",
      "metadata": {
        "id": "MVTle1h3jqdF"
      },
      "source": [
        ""
      ]
    },
    {
      "cell_type": "markdown",
      "metadata": {
        "id": "cxOP8Rlijq6o"
      },
      "source": [
        "#4. Đánh giá độ phức tạp thuật toán"
      ]
    },
    {
      "cell_type": "markdown",
      "metadata": {
        "id": "mZN1BPcCjvP-"
      },
      "source": [
        ""
      ]
    },
    {
      "cell_type": "markdown",
      "metadata": {
        "id": "pKG2DWU0jyNO"
      },
      "source": [
        "# 5. Programming: "
      ]
    },
    {
      "cell_type": "markdown",
      "metadata": {
        "id": "TxlNF5Qfj10L"
      },
      "source": [
        ""
      ]
    }
  ]
}