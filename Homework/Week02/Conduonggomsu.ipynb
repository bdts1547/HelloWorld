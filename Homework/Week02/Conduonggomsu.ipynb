{
  "nbformat": 4,
  "nbformat_minor": 0,
  "metadata": {
    "colab": {
      "name": "Conduonggomsu",
      "provenance": [],
      "collapsed_sections": [],
      "authorship_tag": "ABX9TyMdIwFSPRcoOlXEbwADYEcY",
      "include_colab_link": true
    },
    "kernelspec": {
      "name": "python3",
      "display_name": "Python 3"
    },
    "language_info": {
      "name": "python"
    }
  },
  "cells": [
    {
      "cell_type": "markdown",
      "metadata": {
        "id": "view-in-github",
        "colab_type": "text"
      },
      "source": [
        "<a href=\"https://colab.research.google.com/github/bdts1547/CS112.L21.KHTN_N11/blob/main/Homework/Week02/Conduonggomsu.ipynb\" target=\"_parent\"><img src=\"https://colab.research.google.com/assets/colab-badge.svg\" alt=\"Open In Colab\"/></a>"
      ]
    },
    {
      "cell_type": "markdown",
      "metadata": {
        "id": "TA-U0-G36Xbc"
      },
      "source": [
        "#**CON ĐƯỜNG GỐM SỨ**\n",
        "# **Đề bài**\n",
        "Sau khi bê tông hóa đê chống lụt, thành phố quyết định cho khảm lên tường bê tông của đê tranh ghép tạo bởi các mảnh gốm sứ lấy từ các lò gốm nổi tiếng trong nước. Toàn bộ con đê được chia thành n phần có độ rộng giống nhau, mỗi phần gọi là một lô. Mỗi bức tranh khảm trên đó đều phải có độ rộng giống nhau, tức là bao gồm một số như nhau các lô liên tiếp và toàn bộ tường phải được phủ kín tranh từ đầu đến cuối, mỗi lô phải được tạo màu chủ đạo (gọi là màu của lô) từ một loại gốm đặc trưng lấy từ một lò gốm nào đó trong nước, ví dụ gốm màu xanh Cô ban từ lò gốm Ánh Hồng Quảng Ninh, gốm da lươn – từ Bát Tràng Hà Nội, gốm mộc hồng nhạt – từ Biên Hòa Đồng Nai, . . . Các loại gốm này được đánh số từ 1 đến 50 000.\n",
        "\n",
        "Hướng dẫn viên du lịch giới thiệu với khách tham quan là có 2 nhóm nghệ nhân được giao việc tạo hình và khảm tranh. Với mỗi nhóm các bức tranh của đều được đặc trưng bởi dãy số $(c_1, c_2, . . ., c_k)$, trong đó k là độ rộng của tranh, $c_i$ – màu của lô, $i = 1 ÷ k$, các bức tranh khác nhau có thể khác nhau ở trình tự xuất hiện màu của các lô, ví dụ với dãy số đặc trưng (2, 6, 2, 9), trình tự màu trong tranh có thể là (9, 2, 2, 6) hoặc (6, 9, 2, 2) nhưng không thể là (6, 9, 2, 3). Dãy đặc trưng của 2 nhóm là khác nhau, tức là không thể bằng phép hoán vị trình tự màu của lô để đưa một dãy về dãy kia. Các bức tranh được ghép với nhau rất hài hòa và khách tham quan không nhận biết được sự chuyển tiếp từ tranh này sang tranh khác. Tuy vậy nhiều khách tham quan vẫn muốn biết có bao nhiêu bức tranh đã tạo ra và trong đó số bức tranh của mỗi nhóm là bao nhiêu.\n",
        "\n",
        "Hãy xác định số lượng tranh có thể có và số lượng tranh mỗi nhóm đã làm. biết rằng nhóm nào cũng có tranh của mình.\n",
        "\n",
        "**Dữ liệu:** \n",
        "*   Dòng đầu tiên chứa một số nguyên $n$ – số lượng lô của con đê $(2 ≤ n ≤ 10^5)$.\n",
        "*   Dòng thứ 2 chứa $n$ số nguyên $a_1, a_2, . . ., a_n$ – màu của các lô $(1 ≤ a_i ≤ 50 000, i = 1 ÷ n).$\n",
        "\n",
        "**Kết quả:** dòng đầu tiên chứa số nguyên $m$ – số lượng phương án khác nhau chia con đường thành các bức tranh, nếu không có cách phân chia để đảm bảo phân biệt tranh của đúng 2 nhóm thì đưa ra số -1. Nếu có cách phân biệt thì ở mỗi dòng tiếp theo đưa ra 3 số nguyên $k$, $p$ và $q$ – độ rộng bức tranh, số tranh do nhóm 1 thực hiện và số tranh do nhóm 2 thực hiện, thông tin đưa ra theo thứ tự tăng dần của $k$ và ở mỗi dòng có $p ≥ q > 0.$\n",
        "\n",
        "**Ví dụ:**\n",
        "---\n",
        "|Input                     ||        | Output|\n",
        "|---------------------     ||        | ---   |\n",
        "|9                         ||        |1      |\n",
        "|1 2 3 6 4 9 3 1 2         ||        |3 2 1  |\n",
        "\n",
        "# **1.Abstraction**\n",
        "Cho mảng có n phần tử, sau đó chia mảng ra m mảng con bằng nhau. Chọn 2 mảng con có hoán vị khác nhau sau đó tìm số hoán vị giống với 2 mảng con đó\n",
        "# **2.Pattern Recognition**\n",
        "Dạng bài: So sánh mảng con\n",
        "# **3.Algorithm designed**\n",
        "\n",
        "*   Đầu tiên ta chọn ra 2 mảng con a,b có hoán vị khác nhau \n",
        "*   Sau đó ta so sánh 2 mảng con a,b với các mảng con còn lại:\n",
        "  + Nếu xuất hiện một mảng con bất kỳ nào mà khác hoán vị vói a,b thì không xét nửa\n",
        "  + Ngược lại đếm các mảng con có hoán vị giống với a,b\n",
        "\n",
        "\n",
        "    FUNCTION sosanh_hoanvi(a,b):\n",
        "        t = a.sort()\n",
        "        z = b.sort()\n",
        "        if t == z:\n",
        "          return True\n",
        "      return False\n",
        "\n",
        "    FUNCTION Conduonggomsu(arr,n):\n",
        "      m = 0\n",
        "      c = []\n",
        "      FOR k to 1 -> (n/2) + 1:\n",
        "        a,b,p,q = [],[],1,1\n",
        "        IF n % k == 0 THEN:     \n",
        "          FOR i to 0->K:\n",
        "            a[i] = arr[i]\n",
        "          i = k\n",
        "          WHILE (i < n):\n",
        "            IF sosanh_hoanvi(a,arr[i:i+k]) == TRUE THEN:\n",
        "              p = p + 1\n",
        "              i = i + k\n",
        "            ELSE THEN:\n",
        "              FOR j to i -> K:\n",
        "                b[j] = arr[i]\n",
        "              i = i + k\n",
        "              BREAK\n",
        "          flag = 1\n",
        "          WHILE (i < n):\n",
        "            IF sosanh_hoanvi(a,arr[i:i+k]) == True THEN:\n",
        "              p += 1\n",
        "              i += k\n",
        "            ELSE IF sosanh_hoanvi(b,arr[i:i+k]) == True THEN:\n",
        "              q += 1\n",
        "              i += k\n",
        "            ELSE THEN:\n",
        "              flag = 0\n",
        "              BREAK\n",
        "          if p == (n//k) and q == 1: continue\n",
        "          if flag == 1:\n",
        "            m += 1\n",
        "            c.append([k,p,q])\n",
        "      return m,c\n",
        "  \n",
        "          \n",
        "\n",
        "# **4.Đánh giá độ phức tạp thuật toán**\n",
        "Độ phức tạp: O($n^2$)\n",
        "# **5.Programming**\n",
        "\n",
        "\n"
      ]
    },
    {
      "cell_type": "code",
      "metadata": {
        "colab": {
          "base_uri": "https://localhost:8080/"
        },
        "id": "VeD77a6k4X4v",
        "outputId": "b8d5bd2d-dbbe-4352-f9e1-8c5d9e6fdeb1"
      },
      "source": [
        "def Conduonggomsu(arr,n):\n",
        "  m = 0\n",
        "  c = []\n",
        "  for k in range(1, (n // 2) + 1):\n",
        "    a,b = [],[]\n",
        "    p,q = 1,1\n",
        "    if n % k == 0:\n",
        "      # Tao mang a = a_1 .... a_k\n",
        "      for i in range(0,k):\n",
        "        a.append(arr[i])\n",
        "      i = k\n",
        "      while (i < n):\n",
        "        # So sanh hoan vi giong nhau\n",
        "        if sosanh_hoanvi(a,arr[i:i+k]) == True:\n",
        "          p += 1\n",
        "          i += k\n",
        "        else:\n",
        "          # Tao mang b = b_1 .... b_k\n",
        "          for j in range(i,i+k):\n",
        "            b.append(arr[j])\n",
        "          i += k\n",
        "          break\n",
        "      # Ta co duong 2 mang con a,b\n",
        "      flag = 1\n",
        "      while (i < n):\n",
        "        if sosanh_hoanvi(a,arr[i:i+k]) == True:\n",
        "          p += 1\n",
        "          i += k\n",
        "        elif sosanh_hoanvi(b,arr[i:i+k]) == True:\n",
        "          q += 1\n",
        "          i += k\n",
        "        else:\n",
        "          flag = 0\n",
        "          break\n",
        "      if p == (n//k) and q == 1: continue\n",
        "      if flag == 1:\n",
        "        m += 1\n",
        "        c.append([k,p,q])\n",
        "        #if p > q:\n",
        "         # c.append([k,p,q])\n",
        "        #else:\n",
        "         # c.append([k,q,p])\n",
        "  return m,c\n",
        "\n",
        "def sosanh_hoanvi(a,b):\n",
        "  a.sort()\n",
        "  b.sort()\n",
        "  t = a\n",
        "  z = b\n",
        "  if t == z:\n",
        "    return True\n",
        "  return False\n",
        "\n",
        "def print_ar(c):\n",
        "  for i in range(0,len(c)):\n",
        "    print(c[i][0],c[i][1],c[i][2])\n",
        "\n",
        "n = int(input())\n",
        "a = [int(x) for x in input().split()]\n",
        "c = []\n",
        "m,c = Conduonggomsu(a,n)\n",
        "if m == 0:\n",
        "  print(-1)\n",
        "else:\n",
        "  print(len(c))\n",
        "  print_ar(c)"
      ],
      "execution_count": 56,
      "outputs": [
        {
          "output_type": "stream",
          "text": [
            "9\n",
            "1 2 3 6 4 9 3 1 2\n",
            "1\n",
            "3 2 1\n"
          ],
          "name": "stdout"
        }
      ]
    },
    {
      "cell_type": "code",
      "metadata": {
        "id": "t3h7SBBxAv0f"
      },
      "source": [
        ""
      ],
      "execution_count": null,
      "outputs": []
    }
  ]
}