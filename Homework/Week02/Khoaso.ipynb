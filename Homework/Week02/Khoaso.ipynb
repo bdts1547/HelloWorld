{
  "nbformat": 4,
  "nbformat_minor": 0,
  "metadata": {
    "colab": {
      "name": "Khoaso.ipynb",
      "provenance": [],
      "collapsed_sections": [],
      "toc_visible": true,
      "authorship_tag": "ABX9TyOtieYhF7lRUzZYQ8X3XjN/",
      "include_colab_link": true
    },
    "kernelspec": {
      "name": "python3",
      "display_name": "Python 3"
    },
    "language_info": {
      "name": "python"
    }
  },
  "cells": [
    {
      "cell_type": "markdown",
      "metadata": {
        "id": "view-in-github",
        "colab_type": "text"
      },
      "source": [
        "<a href=\"https://colab.research.google.com/github/bdts1547/CS112.L21.KHTN_N11/blob/main/Homework/Week02/Khoaso.ipynb\" target=\"_parent\"><img src=\"https://colab.research.google.com/assets/colab-badge.svg\" alt=\"Open In Colab\"/></a>"
      ]
    },
    {
      "cell_type": "markdown",
      "metadata": {
        "id": "PwAr0rjhPtTo"
      },
      "source": [
        "#**KHÓA SỐ**\n",
        "# **Đề bài**\n",
        "Để tăng độ an toàn chống hiện tượng cướp ngân hàng ngày càng phổ biến người ta dùng khóa số với mã mở khóa đơn giản nhưng rất hiệu quả. Trên cửa ra vào hiển thị một xâu khá dài các ký tự số. Các chữ số có thể di chuyển đổi chổ cho nhau hoặc bị xóa. Muốn mở khóa người ta phải di chuyển các chữ số và trong trường hợp cần thiết – xóa vài chữ số để nhận được xâu lớn nhất thỏa mãn điều kiện đã cài đặt. Điều kiện này được thay đổi thường xuyên. Hôm nay điều kiện đó là “Số nhận được phải chia hết cho 3”. Số nhận được có thể bắt đầu bằng các chữ số 0. Xâu “000” sẽ lớn hơn xâu “00”.\n",
        "\n",
        "Hãy xác định khóa mở cửa.\n",
        "\n",
        "**Dữ liệu:** Vào từ thiết bị nhập chuẩn gồm một xâu ký tự số có độ dài lớn hơn 2 và không vượt quá $10^5$.\n",
        "\n",
        "**Kết quả:** Đưa ra thiết bị xuất chuẩn xâu khóa mở cửa.\n",
        "\n",
        "**Ví dụ:**\n",
        "---\n",
        "|Input                     ||        | Output|\n",
        "|---------------------     ||        | ---   |\n",
        "|105                       ||        |510    |\n",
        "\n",
        "# **1.Abstraction**\n",
        "Cho một dãy số, di chuyển hoặc xóa các số trong dãy để nhận được xâu lớn nhất và chia hết cho 3\n",
        "# **2.Pattern Recognition**\n",
        "Dạng bài: Sắp xếp dãy số, Tìm số cần xóa\n",
        "# **3.Algorithm designed**\n",
        "*   Chuyển dãy số thành mảng a với mỗi một chữ số là một phần tử của mảng theo thứ tự giảm dần. \n",
        "*   Mảng a có n phần tử\n",
        "*   Mảng b để lưu 2 giá trị cần xóa\n",
        "*   flag để mảng b lưu đúng 2 giá trị cần xóa\n",
        "*   sum là tổng các giá trị của mảng, k là phần dư của sum khi chia 3\n",
        "\n",
        "  \n",
        "          FUNCTION KHOASO(string):\n",
        "            n = len(string)\n",
        "            a= []\n",
        "            sum = 0\n",
        "            FOR i to 0 -> n:\n",
        "              x = int(string[i])\n",
        "              sum = sum + x\n",
        "              a.append(x)     # Them x vao mang a\n",
        "            a.sort(reverse = True) # sap xep giam dan\n",
        "            k = sum % 3\n",
        "            IF k == 0 THEN:\n",
        "              return a\n",
        "            ELSE THEN:\n",
        "              flag = 0\n",
        "              b = []\n",
        "              FOR i to n-1 -> 0:\n",
        "                IF a[i] % 3 == k:\n",
        "                  a = a[0:i] + a[i+1:n]\n",
        "                  return a\n",
        "                IF flag != 2 and a[i] % 3 !=0 THEN:\n",
        "                  flag = flag +1\n",
        "                  b.append(i) # Luu vi tri can xoa vao mang b\n",
        "              i = b[0]\n",
        "              j = b[1]\n",
        "              a = a[0:i] + a[i+1:j] + a[j+1:n]\n",
        "              return a\n",
        "\n",
        "\n",
        "\n",
        "# **4.Đánh giá độ phức tạp thuật toán**\n",
        "Độ phức tạp: O(n)\n",
        "# **5.Programming**\n",
        "\n",
        "\n"
      ]
    },
    {
      "cell_type": "code",
      "metadata": {
        "colab": {
          "base_uri": "https://localhost:8080/"
        },
        "id": "vmUk1sDATyzP",
        "outputId": "10ce4f41-dd00-4c22-a2c2-4366b09e253a"
      },
      "source": [
        "def khoaso(string):\n",
        "  n = len(string)\n",
        "  a = []\n",
        "  sum = 0\n",
        "  for i in range(0,n):\n",
        "    x = int(string[i])\n",
        "    sum += x \n",
        "    a.append(x)\n",
        "  a.sort(reverse = True)\n",
        "  k = sum % 3\n",
        "  if k == 0:\n",
        "    return a;\n",
        "  else:\n",
        "    flag = 0\n",
        "    b = []\n",
        "    for i in range(n-1,-1,-1):\n",
        "      if a[i] % 3 == k:\n",
        "        a = a[0:i] + a[i+1:n]\n",
        "        return a\n",
        "      if flag != 2 and a[i] % 3 != 0:\n",
        "        flag += 1\n",
        "        b.append(i)\n",
        "    i = b[1]\n",
        "    j = b[0]\n",
        "    a = a[0:i] + a[i+1:j] + a[j+1:n]\n",
        "    return a\n",
        "def print_arr(arr):\n",
        "    for i in range(0,len(a)):\n",
        "      print(a[i],end='')\n",
        "  \n",
        "n = input().strip()\n",
        "a = khoaso(n)\n",
        "print_arr(a)"
      ],
      "execution_count": null,
      "outputs": [
        {
          "output_type": "stream",
          "text": [
            "105\n",
            "510"
          ],
          "name": "stdout"
        }
      ]
    },
    {
      "cell_type": "code",
      "metadata": {
        "id": "yi_ZjVwfJ-oq"
      },
      "source": [
        ""
      ],
      "execution_count": null,
      "outputs": []
    }
  ]
}