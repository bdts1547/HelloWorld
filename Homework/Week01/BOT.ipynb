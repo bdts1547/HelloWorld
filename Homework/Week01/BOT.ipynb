{
  "nbformat": 4,
  "nbformat_minor": 0,
  "metadata": {
    "colab": {
      "name": "BOT.ipynb",
      "provenance": [],
      "authorship_tag": "ABX9TyPwGYXRGqP6scnTpBQ8Hp6x",
      "include_colab_link": true
    },
    "kernelspec": {
      "name": "python3",
      "display_name": "Python 3"
    },
    "language_info": {
      "name": "python"
    }
  },
  "cells": [
    {
      "cell_type": "markdown",
      "metadata": {
        "id": "view-in-github",
        "colab_type": "text"
      },
      "source": [
        "<a href=\"https://colab.research.google.com/github/bdts1547/CS112.L21.KHTN_N11/blob/main/Homework/Week01/BOT.ipynb\" target=\"_parent\"><img src=\"https://colab.research.google.com/assets/colab-badge.svg\" alt=\"Open In Colab\"/></a>"
      ]
    },
    {
      "cell_type": "markdown",
      "metadata": {
        "id": "tP4bAB1OZfiT"
      },
      "source": [
        "#Built-Operation-Transfer\n",
        "#Đề bài\n",
        "BOT (Built-Operation-Transfer, có nghĩa: Xây dựng-Vận hành-Chuyển giao) là hình thức Chính phủ kêu gọi các công ty bỏ vốn xây dựng trước (Built) thông qua đấu thầu, sau đó khai thác vận hành một thời gian (Operation) và sau cùng là chuyển giao (Transfer) lại cho nhà nước sở tại.\n",
        "\n",
        "Đường cao tốc xuyên quốc gia được xây dựng theo hình thức BOT. Công ty Đa quốc gia Modern Highway trúng thầu, chia toàn bộ con đường thành n đoạn. Theo tính toán của Công ty sau khi chuyển giao con đường cho chính phủ sở tại quản lý thì lãi thu được ở đoạn đường thứ i là ai, ai có thể dương, âm hoặc bằng 0, tức là với từng đoạn con có thể lãi, lỗ hoặc hòa vốn. Từng nhóm các đoạn đường liên tiếp nhau (gọi tắt là khoảng) được chia cho các công ty con thực hiện. Công ty con ASEAM Highway hiện đang có trụ sở ở nước sở tại được quyền chọn trước khoảng tùy ý (có thể là cả con đường).\n",
        "\n",
        "Dĩ nhiên Ban Giám đốc ASEAM Highway muốn chọn khoảng bắt đầu từ đoạn p đến hết đoạn q mang lại lợi nhuận cao nhất hoặc lỗ ít nhất nếu không có khoảng nào cho lãi.\n",
        "\n",
        "Hãy chỉ ra khoảng cần chọn và lãi thu được. Nếu có nhiều cách chọn thì chỉ ra cách chọn có p nhỏ nhất.\n",
        "\n",
        "Dữ liệu: Vào từ thiết bị nhập chuẩn:\n",
        "\n",
        "*   Dòng đầu tiên chứa số nguyên $n (1 ≤ n ≤ 10^6)$ \n",
        "\n",
        "*   Dòng thứ 2 chứa n số nguyên $a_1, a_2, . . ., a_n (0 ≤ |a_i| ≤ 10^9, i = 1 ÷ n)$\n",
        " \n",
        "Kết quả: Đưa ra thiết bị xuất chuẩn trên một dòng 2 số nguyên p, q và lãi thu được.\n",
        "Ví dụ:\n",
        "---\n",
        "| Input                                                 | Output |\n",
        "|-----                                                  | ----   |\n",
        "|16                                                     |5 15 12 |\n",
        "|2 -4 5 -8 4 -1 -1 1 1 1 -2 2 4 -6 9 -4                 |        |\n",
        "\n",
        "# **1.Abstraction**\n",
        "Tìm dãy con có giá trị lớn nhất\n",
        "#**2. Pattern Recognition**\n",
        "*   TH1: Tất cả đều dương\n",
        "    + Lấy tất cả phần tử\n",
        "*   TH2: Tất cả đều âm\n",
        "    + Lấy phần tử có giá trị âm lớn nhất\n",
        "*   TH3: Có âm có dương\n",
        "    + Lấy đoạn (p,q) có tổng lớn nhất\n",
        "\n",
        "#**3. Algorithm designed**\n",
        "    \n",
        "c_start: Lưu giá trị đầu tiên của mạng hiện tại  \n",
        "\n",
        "sum: Tổng giá trị tính từ vị trí đầu tiên (c_start)\n",
        "\n",
        "max: Giá trị mảng có tổng lớn nhất\n",
        "\n",
        "start,end: Giá trị đầu tiên, cuối cùng của mảng có tổng lớn nhất\n",
        "\n",
        "\n",
        "    For i to n:\n",
        "      if (sum + a[i] < a[i]) then:\n",
        "        c_start = i  # Lưu giá trị đầu tiên của mảng đang xét\n",
        "        sum = a[i]\n",
        "      else then:\n",
        "        sum = sum + a[i]\n",
        "      if (max < sum) then:\n",
        "        max = sum\n",
        "        start = c_start\n",
        "        end = i\n",
        "\n",
        "#**4. Đánh giá độ phức tạp thuật toán**\n",
        "Độ phức tạp: O(n)\n",
        "#**5. Programming**\n",
        "\n"
      ]
    },
    {
      "cell_type": "code",
      "metadata": {
        "colab": {
          "base_uri": "https://localhost:8080/"
        },
        "id": "62KbbxFbbSiq",
        "outputId": "5e14c63a-54a1-4b1d-c56d-00668a163f8b"
      },
      "source": [
        "n = int(input())\n",
        "arr = [int(x) for x in input().split()]\n",
        "max,sum=-999999,0\n",
        "start = 0\n",
        "end = 0\n",
        "c_start = 0;\n",
        "for i in range(0,n):\n",
        "  if (sum + arr[i] < arr[i]):\n",
        "    c_start = i;  # Lưu giá trị đầu tiền của mảng con\n",
        "    sum = arr[i];         \n",
        "  else:\n",
        "    sum += arr[i];\n",
        "  #print(\"i = \",i+1,\"sum = \",sum)\n",
        "  if (max < sum):\n",
        "    max = sum;\n",
        "    start = c_start;\n",
        "    end = i;\n",
        "\n",
        "print(start+1,\" \",end+1,\" \",max)"
      ],
      "execution_count": null,
      "outputs": [
        {
          "output_type": "stream",
          "text": [
            "16\n",
            "2 -4 5 -8 4 -1 -1 1 1 1 -2 2 4 -6 9 -4\n",
            "5   15   12\n"
          ],
          "name": "stdout"
        }
      ]
    },
    {
      "cell_type": "code",
      "metadata": {
        "id": "r9R-sm3Hn03s"
      },
      "source": [
        ""
      ],
      "execution_count": null,
      "outputs": []
    }
  ]
}