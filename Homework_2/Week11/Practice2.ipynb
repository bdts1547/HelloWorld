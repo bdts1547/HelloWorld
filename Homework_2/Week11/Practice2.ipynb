{
  "nbformat": 4,
  "nbformat_minor": 0,
  "metadata": {
    "colab": {
      "name": "N11.ipynb",
      "provenance": [],
      "collapsed_sections": [],
      "include_colab_link": true
    },
    "kernelspec": {
      "name": "python3",
      "display_name": "Python 3"
    },
    "language_info": {
      "name": "python"
    }
  },
  "cells": [
    {
      "cell_type": "markdown",
      "metadata": {
        "id": "view-in-github",
        "colab_type": "text"
      },
      "source": [
        "<a href=\"https://colab.research.google.com/github/bdts1547/CS112.L21.KHTN_N11/blob/main/Homework_2/Week11/Practice2.ipynb\" target=\"_parent\"><img src=\"https://colab.research.google.com/assets/colab-badge.svg\" alt=\"Open In Colab\"/></a>"
      ]
    },
    {
      "cell_type": "markdown",
      "metadata": {
        "id": "KUGAdeNP-yft"
      },
      "source": [
        "#1 Abstraction\n",
        "Cho một ma trận nhị phân, đếm số vùng 1 (vùng có các số 1 đứng lân cận nhau chỉ đc coi là 1 vùng)\n",
        "\n",
        "#2 Decomposition\n",
        "Tìm thành phần liên thông của node có giá trị 1\n",
        "\n",
        "#3 Pattern Regconition\n",
        "Bài toán đồ thị\n",
        "\n",
        "#4 Algorithm Design\n",
        "- Tạo 2 mảng index_row, index_col.\n",
        "- Duyệt thành phần liên thông của mỗi phần tử trong mảng land(mảng đầu vào) nếu bằng 1 thì tăng biến đếm count và xét các vị trí xung quanh bằng hàm tìm liên thông DFS.\n",
        "-  Nếu vị trí hợp lệ và khác 1 thì gán bằng 0 và tiếp tục tìm liên thông điểm đó nếu không thì trả về.\n",
        "- Kết quả là biến đếm count.\n",
        "\n"
      ]
    },
    {
      "cell_type": "code",
      "metadata": {
        "id": "XFTAARdF-veF",
        "colab": {
          "base_uri": "https://localhost:8080/"
        },
        "outputId": "070a91eb-c640-49b3-837c-7f1e954859f4"
      },
      "source": [
        "index_col = [-1, 0, 1, -1, 1, -1, 0, 1]\n",
        "index_row = [-1, -1, -1, 0, 0, 1, 1, 1]\n",
        "\n",
        "def DFS(land, row, col):\n",
        "  #if row<0 or num_row>row  or col<0 or num_col>col or land[row][col] != 1:\n",
        "    #return\n",
        "  if row<0 or num_row<=row  or col<0 or num_col<=col or land[row][col] != 1:\n",
        "    return  \n",
        "  land[row][col] = 0 # danh dau da xet\n",
        "  for i in range (8): # xung quanh co 8 o\n",
        "      DFS(land, row + index_row[i], col + index_col[i])\n",
        "\n",
        "def count_land(land):\n",
        "  count = 0\n",
        "  for row in range(num_row ):\n",
        "    for col in range(num_col ):\n",
        "      if land[row][col]==1:\n",
        "        count+=1\n",
        "        #print(\"row: \", row, \"col\", col, \"matrix: \", land[row][col])\n",
        "        #print(\"----\", count,\"--\")\n",
        "        DFS(land, row, col)\n",
        "  return count\n",
        "\n",
        "print(\"Nhap so hang, so cot: \")  \n",
        "num_row, num_col = map(int, input().split())\n",
        "print(\"Nhap du lieu manh dat:\")\n",
        "\n",
        "land = []\n",
        "for row in range(num_row):\n",
        "  #row = map(int, input().split())\n",
        "  row = list(map(int, input().split()))\n",
        "  land.append(row)\n",
        "print(\"So manh dat: \",count_land(land))  "
      ],
      "execution_count": null,
      "outputs": [
        {
          "output_type": "stream",
          "text": [
            "Nhap so hang, so cot: \n",
            "5 5\n",
            "Nhap du lieu manh dat:\n",
            "1 1 0 0 0\n",
            "0 1 0 0 1\n",
            "1 0 0 1 1\n",
            "0 0 0 0 0 \n",
            "1 0 1 0 1\n",
            "So manh dat:  5\n"
          ],
          "name": "stdout"
        }
      ]
    },
    {
      "cell_type": "code",
      "metadata": {
        "id": "QCyv25NX8FiR"
      },
      "source": [
        "from google.colab import drive\n",
        "drive.mount('/content/drive')"
      ],
      "execution_count": null,
      "outputs": []
    }
  ]
}