{
  "nbformat": 4,
  "nbformat_minor": 0,
  "metadata": {
    "colab": {
      "name": "N11.ipynb",
      "provenance": [],
      "authorship_tag": "ABX9TyPyI//DJO+U0bz1r/cyjm2u",
      "include_colab_link": true
    },
    "kernelspec": {
      "name": "python3",
      "display_name": "Python 3"
    },
    "language_info": {
      "name": "python"
    }
  },
  "cells": [
    {
      "cell_type": "markdown",
      "metadata": {
        "id": "view-in-github",
        "colab_type": "text"
      },
      "source": [
        "<a href=\"https://colab.research.google.com/github/bdts1547/CS112.L21.KHTN_N11/blob/main/Homework_2/Week06/BaB.ipynb\" target=\"_parent\"><img src=\"https://colab.research.google.com/assets/colab-badge.svg\" alt=\"Open In Colab\"/></a>"
      ]
    },
    {
      "cell_type": "code",
      "metadata": {
        "colab": {
          "base_uri": "https://localhost:8080/"
        },
        "id": "fOvRzqUMyYrH",
        "outputId": "16f61b13-f585-4eda-f610-fd8609cd20e1"
      },
      "source": [
        "\n",
        "\n",
        "def isSafe(n, r, c, arr):\n",
        "    for i in range(n):\n",
        "        if arr[r][i] or arr[i][c]:\n",
        "            return False\n",
        "    for i in range(n):\n",
        "        for j in range(n):\n",
        "            if i + j == r + c or i - j == r -c:\n",
        "                if arr[i][j]:\n",
        "                    return False\n",
        "    return True\n",
        "          \n",
        "def Queen(n, c, arr):\n",
        "\n",
        "    if c >= n:\n",
        "        return True\n",
        "    for i in range(n):\n",
        "        if isSafe(n, i, c, arr):\n",
        "            arr[i][c] = 1\n",
        "            if Queen(n, c+1, arr):\n",
        "                return True\n",
        "            arr[i][c] = 0\n",
        "    return False\n",
        "\n",
        "N = int(input().strip())\n",
        "arr = [[0 for _ in range(N)] for _ in range(N)]\n",
        "\n",
        "if Queen(N, 0, arr):\n",
        "    for i in range(N):\n",
        "        for j in range(N):\n",
        "            print(arr[i][j], end = ' ')\n",
        "        print(end = '\\n')\n",
        "else:\n",
        "    print('No solution')\n",
        "\n"
      ],
      "execution_count": null,
      "outputs": [
        {
          "output_type": "stream",
          "text": [
            "5\n",
            "1 0 0 0 0 \n",
            "0 0 0 1 0 \n",
            "0 1 0 0 0 \n",
            "0 0 0 0 1 \n",
            "0 0 1 0 0 \n"
          ],
          "name": "stdout"
        }
      ]
    },
    {
      "cell_type": "code",
      "metadata": {
        "id": "RqAYTzLz5oEs"
      },
      "source": [
        ""
      ],
      "execution_count": null,
      "outputs": []
    }
  ]
}