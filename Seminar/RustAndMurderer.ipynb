{
  "nbformat": 4,
  "nbformat_minor": 0,
  "metadata": {
    "colab": {
      "name": "RustAndMurderer.ipynb",
      "provenance": [],
      "toc_visible": true,
      "mount_file_id": "1f28SEyh8TJCMfK0uL3YwEk0QeSMGOiV-",
      "authorship_tag": "ABX9TyN+pZTulgudgIikJLOLLTNB",
      "include_colab_link": true
    },
    "kernelspec": {
      "name": "python3",
      "display_name": "Python 3"
    },
    "language_info": {
      "name": "python"
    }
  },
  "cells": [
    {
      "cell_type": "markdown",
      "metadata": {
        "id": "view-in-github",
        "colab_type": "text"
      },
      "source": [
        "<a href=\"https://colab.research.google.com/github/bdts1547/CS112.L21.KHTN_N11/blob/main/Seminar/RustAndMurderer.ipynb\" target=\"_parent\"><img src=\"https://colab.research.google.com/assets/colab-badge.svg\" alt=\"Open In Colab\"/></a>"
      ]
    },
    {
      "cell_type": "markdown",
      "metadata": {
        "id": "rp9FYyG3jKgK"
      },
      "source": [
        "# Rust và Murderer\n",
        "**Đề bài**\n",
        "\n",
        "\n",
        "\n",
        "\n",
        "\n",
        "\n",
        "\n",
        "\n",
        "\n",
        "  \n",
        "\n",
        "\n",
        "\n"
      ]
    },
    {
      "cell_type": "markdown",
      "metadata": {
        "id": "hyKo4BxdeSCf"
      },
      "source": [
        "Thám tử Rust đang điều tra một vụ giết người và anh ta muốn truy đuổi kẻ sát nhân. Kẻ sát nhân biết rằng mình chắc chắn sẽ bị bắt nếu đi đường chính để bỏ trốn, vì vậy hắn sử dụng đường làng để chạy khỏi hiện trường vụ án.\n",
        "\n",
        "Rust biết rằng kẻ sát nhân sẽ chiếm đường làng và anh ta muốn đuổi theo hắn. Anh ta đang quan sát bản đồ thành phố, nhưng nó không hiển thị đường làng trên đó và chỉ hiển thị những con đường chính.\n",
        "\n",
        "Bản đồ của thành phố là một biểu đồ bao gồm $N$ nút (được dán nhãn từ 1 đến $N$) trong đó một nút cụ thể $S$ thể hiện vị trí hiện tại của Rust và phần còn lại của các nút biểu thị các địa điểm khác trong thành phố và cạnh giữa hai nút là một đường chính giữa hai nơi trong thành phố. Có thể giả định một cách hợp lý rằng một cạnh không tồn tại / không được hiển thị trên bản đồ là đường làng. Điều đó có nghĩa là, có một đường làng giữa hai nút $a$ và $b$ khi không có đường thành phố giữa chúng.\n",
        "\n",
        "Trong bài toán này, khoảng cách được tính bằng số đường làng giữa hai địa điểm bất kỳ trong thành phố.\n",
        "\n",
        "Hãy giúp Rust tính khoảng cách ngắn nhất từ ​​vị trí của anh ta (Nút $S$) đến tất cả các địa điểm khác trong thành phố nếu anh ta chỉ di chuyển bằng đường làng.\n",
        "\n",
        "\n",
        "\n",
        "**Dữ liệu**: \n",
        "+ Dòng đầu tiên nhập 2 số nguyên, $N$ thành phố và $M$ con đường\n",
        "+ M dòng tiếp theo nhập 2 số nguyên $x$ và $y$, biểu thị con đường giữa 2 thành phố $x$ và $y$\n",
        "+ Dòng cuối cùng nhập $S$, vị trí của Rust\n",
        "    \n",
        "    + $2 ≤ N ≤ 2*10^5$\n",
        "    + $0 ≤ M ≤ 120000$\n",
        "    + $1 ≤ x,y,S ≤ N$\n",
        "\n",
        "**Kết quả**: in một dòng duy nhất bao gồm N-1 số nguyên được phân tách bằng dấu cách, biểu thị khoảng cách ngắn nhất của N-1 vị trí còn lại từ vị trí của Rust (ngoài trừ vị trí S) theo thứ tự tăng dần của số đỉnh \n",
        "\n",
        "**Ví dụ:**\n",
        "\n",
        "---\n",
        "|Input                     ||        | Output|\n",
        "|---------------------     ||        | ---   |\n",
        "|4 3                       ||        |3 1 2  |\n",
        "|1 2                       ||        |       |\n",
        "|2 3                       ||        |       |\n",
        "|1 4                       ||        |       |\n",
        "\n",
        "\n"
      ]
    },
    {
      "cell_type": "markdown",
      "metadata": {
        "id": "3Hm6Pk4Yc7I3"
      },
      "source": [
        "# **1.Abstraction**\n"
      ]
    },
    {
      "cell_type": "markdown",
      "metadata": {
        "id": "y9HI349GeXQ2"
      },
      "source": [
        "Cho đồ thị vô hướng N đỉnh và M cạnh. \n",
        "\n",
        "Tính khoảng cách ngắn nhất từ vị trí S đến tất cả đỉnh còn lại sao cho không đi qua các cạnh của M\n"
      ]
    },
    {
      "cell_type": "markdown",
      "metadata": {
        "id": "LeOTGuyVc63G"
      },
      "source": [
        "# **2.Decomposition**\n",
        " \n",
        "  \n",
        "\n",
        "\n"
      ]
    },
    {
      "cell_type": "markdown",
      "metadata": {
        "id": "od8q24BJeek4"
      },
      "source": [
        "Sau khi Abstraction thì ta có thể chia bài toán thành 2 bài toán con đó là:\n",
        "1.   Tính khoảng cách từ S đến tất cả đỉnh không có cạnh kết nối với S\n",
        "2.   Tính khoảng cách từ S đến tất cả các đỉnh có cạnh kết nối với S"
      ]
    },
    {
      "cell_type": "markdown",
      "metadata": {
        "id": "JNk8MwMHc6e0"
      },
      "source": [
        "# **3.Pattern Recognition**\n"
      ]
    },
    {
      "cell_type": "markdown",
      "metadata": {
        "id": "9XpMDBToehHe"
      },
      "source": [
        "+ Đồ thị vô hướng\n",
        "+ BFS"
      ]
    },
    {
      "cell_type": "markdown",
      "metadata": {
        "id": "9vsVeRZrd5RE"
      },
      "source": [
        "# **4.Algorithm designed**\n"
      ]
    },
    {
      "cell_type": "markdown",
      "metadata": {
        "id": "HL1Q5Ofrej0O"
      },
      "source": [
        "Từ những mối quan hệ mà ta đã decomposition dẫn đến phương pháp thiết kế thuật toán như này:\n",
        "\n",
        "\n",
        "+ Bước 1: Tính khoảng cách từ $S$ đến tất cả các đỉnh không có cạnh kết nối với S ($d_a$ = 1)\n",
        "+ Bước 2: Khởi tạo tập $U$ là những đỉnh có cạnh kết nối với $S$\n",
        "+ Bước 3: Khởi tạo tập to_collect($T$) để lưu trữ những đỉnh không có cạnh kết nối với $S$\n",
        "+ Bước 4: Xét $U_i$ có cạnh kết nối với $T_i$ hay không. Nếu không có thì d($U_i$) sẽ bằng d($T_i$) + 1, rồi xóa $U_i$ ra khỏi $U$\n",
        "\n",
        "\n"
      ]
    },
    {
      "cell_type": "markdown",
      "metadata": {
        "id": "HYogkCQbd5B-"
      },
      "source": [
        "# **4.Đánh giá độ phức tạp thuật toán**\n",
        "\n",
        "\n",
        "\n",
        "\n",
        "\n"
      ]
    },
    {
      "cell_type": "markdown",
      "metadata": {
        "id": "fca4WL5gemf9"
      },
      "source": [
        "Độ phức tạp: O(V + E)\n",
        "\n",
        "*   V: số đỉnh của đồ thị\n",
        "*   E: số cạnh của đồ thị\n"
      ]
    },
    {
      "cell_type": "markdown",
      "metadata": {
        "id": "4o0Qym5cd4iV"
      },
      "source": [
        "# **5.Programming**"
      ]
    },
    {
      "cell_type": "code",
      "metadata": {
        "id": "8-hXx2lRi5em",
        "colab": {
          "base_uri": "https://localhost:8080/"
        },
        "outputId": "4edfcd03-934e-4292-d88d-58460ac7ca06"
      },
      "source": [
        "\n",
        "from collections import defaultdict\n",
        "\n",
        "def bfs(n, graph, dist, undiscovered):\n",
        "    \n",
        "    to_collect = set()\n",
        "    for v in range(n):\n",
        "        if dist[v] == 1:\n",
        "            to_collect.add(v)  # Tập hợp những điểm có thể đi đc từ S\n",
        "\n",
        "\n",
        "    while(len(to_collect) > 0):\n",
        "        node = to_collect.pop()\n",
        "        \n",
        "        i = 0\n",
        "        while(i < len(undiscovered)):\n",
        "            if undiscovered[i] not in graph[node]: # Kiểm tra đường làng\n",
        "                dist[undiscovered[i]] = dist[node] + 1\n",
        "                to_collect.add(undiscovered[i])  \n",
        "                del undiscovered[i]\n",
        "            else:\n",
        "                i += 1 \n",
        "\n",
        "\n",
        "def main():\n",
        "    # path = \"/content/drive/MyDrive/UIT_K14/Semester_4/PT_TKTT/Test/rust1.in\"\n",
        "    path = \"/content/drive/MyDrive/UIT_K14/Semester_4/PT_TKTT/Seminar_Practice/inputRust.txt\"\n",
        "    with open(path) as f:\n",
        "        content = f.readlines()\n",
        "  \n",
        "    i = 0\n",
        "    T = int(content[i]); i += 1;\n",
        "    for _ in range(T):    \n",
        "        graph = defaultdict(list)\n",
        "        n, m = map(int, content[i].split()); i += 1;\n",
        "        for __ in range(m):\n",
        "            u, v = map(int, content[i].split()); i += 1;\n",
        "            graph[u-1].append(v-1)\n",
        "            graph[v-1].append(u-1)\n",
        "\n",
        "        s = int(content[i]) - 1; i += 1;\n",
        "     \n",
        "\n",
        "\n",
        "        undiscovered = [u for u in graph[s]] # Những điểm không thể đi từ vị trí S\n",
        "        dist = [ 1 for _ in range(n)]\n",
        "        dist[s] = 0\n",
        "        for v in undiscovered:\n",
        "            dist[v] = None\n",
        "        bfs(n, graph, dist, undiscovered)\n",
        "\n",
        "\n",
        "        del dist[s]  # Xóa phần tử s để print\n",
        "        print('Result: ', end = '')\n",
        "        print(' '.join(map(str,dist)))\n",
        "\n",
        "main()\n"
      ],
      "execution_count": null,
      "outputs": [
        {
          "output_type": "stream",
          "text": [
            "Result: 1 1 2 3 4 5 5 5 5 5 5 5 5 5 5 5 5 5 5 5 5 5 5 5 5 5 5 5 5 5 5 5 5 5 5 5 5 5 5 4 4 4 4 4 4 4 4 4 4 4 4 4 4 4 4 4 4 4 4 4 4 4 4 4 4 4 4 4 4 4 4 4 4 4 4 4 4 4 4 4 4 4 4 4 4 4 4 4 4 4 4 4 4 4 4 4 4 4 4 4 4 4 4 4 4 4 4 4 4 4 4 4 4 4 4 4 4 4 4 4 4 4 4 4 4 4 4 4 4 4 4 4 4 4 4 4 4 4 4 4 4 4 4 4 4 4 4 4 4 4 4 4 4 4 4 4 4 4 4 4 4 4 4 4 4 4 4 4 4 4 4 4 4 4 4 4 4 4 4 4 4 4 4 4 4 4 4 4 4 4 4 4 4 4 4 4 4 4 4 4 4 4 4 4 4 4 4 4 4 4 4 4 4 4 4 4 4 4 4 4 4 4 4 4 4 4 4 4 4 4 4 4 4 4 4 4 4 4 4 4 4 4 4 4 4 4 4 4 4 4 4 4 4 4 4 4 4 4 4 4 4 4 4 4 4 4 4 4 4 4 4 4 4 4 4 4 4 4 4 4 4 4 4 4 4 4 4 4 4 4 4 4 4 4 4 4 4 4 4 4 4 4 4 4 4 4 4 4 4 4 4 4 4 4 4 4 4 4 4 4 4 4 4 4 4 4 4 4 4 4 4 4 4 4 4 4 4 4 4 4 4 4 4 4 4 4 4 4 4 4 4 4 4 4 4 4 4 4 4 4 4 4 4 4 4 4 4 4 4 4 4 4 4 4 4 4 4 4 4 4 4 4 4 4 4 4 4 4 4 4 4 4 4 4 4 4 4 4 4 4 4 4 4 4 4 4 4 4 4 4 4 4 4 4 4 4 4 4 4\n",
            "Result: 3 2 1 1 1 1 1 1 1 1 1 1 1 1 1 1 1 1 1 1 1 1 1 1 1 1 1 1 1 1 1 1 1 1 1 1 1 1 1 1 1 1 1 1 1 1 1 1 1 1 1 1 1 1 1 1 1 1 1 1 1 1 1 1 1 1 1 1 1 1 1 1 1 1 1 1 1 1 1 1 1 1 1 1 1 1 1 1 1 1 1 1 1 1 1 1 1 1 1 1 1 1 1 1 1 1 1 1 1 1 1 1 1 1 1 1 1 1 1 1 1 1 1 1 1 1 1 1 1 1 1 1 1 1 1 1 1 1 1 1 1 1 1 1 1 1 1 1 1 1 1 1 1 1 1 1 1 1 1 1 1 1 1 1 1 1 1 1 1 1 1 1 1 1 1 1 1 1 1 1 1 1 1 1 1 1 1 1 1 1 1 1 1 1 1 1 1 1 1 1 1 1 1 1 1 1 1 1 1 1 1 1 1 1 1 1 1 1 1 1 1 1 1 1 1 1 1 1 1 1 1 1 1 1 1 1 1\n",
            "Result: 1 2 2 2 2 2 2 2 2 2 2 1 1 1 1 1 1 1 1 1 1 1 1 1 1 1 1 1 1 1 1 1 1 1 1 1 1 1 1 1 1 1 1 1 1 1 1 1 1 1 1 1 1 1 1 1 1 1 1 1 1 1 1 1 1 1 1 1 1 1 1 1 1 1 1 1 1 1 1 1 1 1 1 1 1\n",
            "Result: 7 6 5 4 3 2 1 1 1 1 1 1 1 1 1 1 1 1 1 1 1 1 1 1 1 1 1 1 1 1 1 1 1 1 1 1 1 1 1 1 1 1 1 1 1 1 1 1 1 1 1 1 1 1 1 1 1 1 1 1 1 1 1 1 1 1 1 1 1 1 1 1 1 1 1 1 1 1 1 1 1 1 1 1 1 1 1 1 1 1 1 1 1 1 1 1 1 1 1 1 1 1 1 1 1 1 1 1 1 1 1 1 1 1 1 1 1 1 1 1 1 1 1 1 1 1 1 1 1 1 1 1 1 1 1 1 1 1 1 1 1 1 1 1 1 1 1 1 1 1 1 1 1 1 1 1 1 1 1 1 1 1 1 1 1 1 1 1 1 1 1 1 1 1 1 1 1 1 1 1 1 1 1 1 1 1 1 1 1 1 1 1 1 1 1 1 1 1 1 1 1 1 1 1 1 1 1 1 1 1 1 1 1 1 1 1 1 1 1 1 1 1 1 1 1 1 1 1 1 1 1 1 1 1 1 1 1 1 1 1 1 1 1 1 1 1 1 1 1 1 1 1 1 1 1 1 1 1 1 1 1 1 1 1 1 1 1 1 1 1 1 1 1 1 1 1 1 1 1 1 1 1 1 1 1 1 1 1 1 1 1 1 1 1 1 1 1 1 1 1 1 1 1 1 1 1 1 1 1 1 1 1 1 1 1 1 1 1 1 1 1 1 1 1 1 1 1 1 1 1 1 1 1 1 1 1 1 1 1 1 1 1 1 1 1 1 1 1 1 1 1 1 1 1 1 1 1 1 1 1 1 1 1 1 1 1 1 1 1 1 1 1 1 1 1 1 1 1 1 1 1 1 1 1 1 1 1 1 1 1 1 1 1 1 1 1 1 1 1 1 1 1 1 1 1 1 1 1 1 1 1 1 1 1 1 1 1 1 1 1 1 1 1 1 1 1 1 1 1 1 1 1 1 1 1 1 1 1 1 1 1\n",
            "Result: 5 4 3 2 1 1 1 1 1 1 1 1 1 1 1 1 1 1 1 1 1 1 1 1 1 1 1 1 1 1 1 1 1 1 1 1 1 1 1 1 1 1 1 1 1 1 1 1 1 1 1 1 1 1 1 1 1 1 1 1 1 1 1 1 1 1 1 1 1 1 1 1 1 1 1 1 1 1 1 1 1 1 1 1 1 1 1 1 1 1 1 1 1 1 1 1 1 1 1 1 1 1 1 1 1 1 1 1 1 1 1 1 1 1 1 1 1 1 1 1 1 1 1 1 1 1 1 1 1 1 1 1 1 1 1 1 1 1 1 1 1 1 1 1 1 1 1 1 1 1 1 1 1 1 1 1 1 1 1 1 1 1 1 1 1 1 1 1 1 1 1 1 1 1 1 1 1 1 1 1 1 1 1 1 1 1 1 1 1 1 1 1 1 1 1 1 1 1 1 1 1 1 1 1 1 1 1 1 1 1 1 1 1 1 1 1 1 1 1 1 1 1 1 1 1 1 1 1 1 1 1 1 1 1 1 1 1 1 1 1 1 1 1 1 1 1 1 1 1 1 1 1 1 1 1 1 1 1 1 1 1 1 1 1 1 1 1 1 1 1 1 1 1 1 1 1 1 1 1 1 1 1 1 1 1 1 1 1 1 1 1 1 1 1 1 1 1 1 1 1 1 1 1 1 1 1 1 1 1 1 1 1 1 1 1 1 1 1 1 1 1 1 1 1 1 1 1 1 1 1 1 1 1 1 1 1 1\n",
            "Result: 1 1 1 1 1 1 1 1 1 1 1 1 1 1 1 1 1 1 1 1 1 1 1 1 1 1 1 1 1 1 1 1 1 1 1 1 1 1 1 1 1 1 1 1 1 1 1 1 1 1 1 1 1 1 1 1 1 1 1 1 1 1 1 1 1 1 1 1 1 1 1 1 1 1 1 1 1 1 1 1 1 1 1 1 1 1 1 1 1 1 1 1 1 1 1 1 1 1 1 1 1 1 1 1 1 1 1 1 1 1 1 1 1 1 1 1 1 1 1 1 1 1 1 1 1 1 1 1 1 1 1 1 1 1 1 1 1 1 1 1 1 1 1 1 1 1 1 1 1 1 1 1 1 1 1 1 1 1 1 1 1 1 1 1 1 1 1 1 1 1 1 1 1 1 1 1 1 1 1 1 1 1 1 1 1 1 1 1 1 1 1 1 1 1 1 1 1 1 1\n"
          ],
          "name": "stdout"
        }
      ]
    },
    {
      "cell_type": "code",
      "metadata": {
        "id": "NKqmZNsDIHW8"
      },
      "source": [
        ""
      ],
      "execution_count": null,
      "outputs": []
    }
  ]
}