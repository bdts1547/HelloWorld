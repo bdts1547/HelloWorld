{
  "nbformat": 4,
  "nbformat_minor": 0,
  "metadata": {
    "colab": {
      "name": "Maze.ipynb",
      "provenance": [],
      "toc_visible": true,
      "mount_file_id": "1iHBDeaOd2UXi8K33j470GZuhVKrzM1aX",
      "authorship_tag": "ABX9TyMJPhB6k+R/EE8teIOxiqX2",
      "include_colab_link": true
    },
    "kernelspec": {
      "name": "python3",
      "display_name": "Python 3"
    },
    "language_info": {
      "name": "python"
    }
  },
  "cells": [
    {
      "cell_type": "markdown",
      "metadata": {
        "id": "view-in-github",
        "colab_type": "text"
      },
      "source": [
        "<a href=\"https://colab.research.google.com/github/bdts1547/CS112.L21.KHTN_N11/blob/main/Seminar/Maze.ipynb\" target=\"_parent\"><img src=\"https://colab.research.google.com/assets/colab-badge.svg\" alt=\"Open In Colab\"/></a>"
      ]
    },
    {
      "cell_type": "markdown",
      "metadata": {
        "id": "Bna4Nrm35tsw"
      },
      "source": [
        "# Maze\n",
        "**Đề bài**\n",
        "\n",
        "\n",
        "\n"
      ]
    },
    {
      "cell_type": "markdown",
      "metadata": {
        "id": "LnEi8Np1J2A_"
      },
      "source": [
        "Thám tử Rust trong một lần truy đuổi kẻ sát nhân nhưng không may đã để lộ ra tin tức nơi ở của mình, cuối cùng lại bị kẻ sát nhân truy đuổi. Trong quá trình bị truy sát Rust nhìn thấy được thành phố, nhưng không may trước thành phố lại có một mê cung phải thông qua mê cung mới được vào thành phố. Rust biết nếu mình có thể vào thành phố thì sẽ sống, ngược lại sẽ chết. Vì vậy chỉ còn cách tiến vào mê cung.\n",
        "\n",
        "Mê cung được cho minh họa dưới dạng ma trận nhị phân N * N, trong đó khối nguồn là khối trên cùng bên trái, tức là maze[0][0] và khối đích là khối dưới cùng bên phải, tức là maze[N-1][N-1]. Trong ma trận mê cung, 0 có nghĩa là ngõ cụt và 1 là khối có thể sử dụng làm đường đi.\n",
        "\n",
        "\n",
        "Một lần nữa hãy giúp Rust tìm lối thoát của mê cung .In ra \"DEATH\" nếu mê cung đó không có lối ra, ngược lại in ra \"ALIVE\" và đường đi\n",
        "\n",
        "**Dữ liệu**: Nhập vào sô nguyên N, kích thước ma trân  \n",
        "    + 2 ≤ N ≤ 50\n",
        "\n",
        "**Ví dụ:**\n",
        "\n",
        "---\n",
        "|Input                     ||        | Output|\n",
        "|---------------------     ||        | ---   |\n",
        "|5                         ||        |ALIVE  |\n",
        "|1 1 1 1 1                 ||        |1 1 1 0 0|\n",
        "|0 0 1 0 1                 ||        |0 0 1 0 0       |\n",
        "|1 0 1 1 1                 ||        |0 0 1 0 0       |\n",
        "|1 1 1 0 0                 ||        |0 0 1 0 0       |\n",
        "|0 0 1 1 1                 ||        |0 0 1 1 1       |\n",
        "\n",
        "    Giả sử mê cung được cho như này:                 Đường đi:\n",
        "                  1 1 1 1 1                          1 1 1 0 0\n",
        "                  0 0 1 0 1                          0 0 1 0 0 \n",
        "                  1 0 1 1 1                          0 0 1 0 0\n",
        "                  1 1 1 0 0                          0 0 1 0 0 \n",
        "                  0 0 1 1 1                          0 0 1 1 1 \n"
      ]
    },
    {
      "cell_type": "markdown",
      "metadata": {
        "id": "RzghL0p6J4Eb"
      },
      "source": [
        "# **1.Abstraction**\n"
      ]
    },
    {
      "cell_type": "markdown",
      "metadata": {
        "id": "vcY_QFAPJ8-e"
      },
      "source": [
        "Cho ma trận (maze) nhị phân N * N.\n",
        "\n",
        "Tìm đường đi là các con số 1 từ maze[0,0] đến maze[N-1,N-1]\n",
        "Nếu không có in ra \"DEATH\", ngược lại in ra \"ALIVE\" và đường đi"
      ]
    },
    {
      "cell_type": "markdown",
      "metadata": {
        "id": "sgQ0PXDIKHm-"
      },
      "source": [
        "#**2.Decomposition**"
      ]
    },
    {
      "cell_type": "markdown",
      "metadata": {
        "id": "yHUH5eYAKQIK"
      },
      "source": [
        "Từ bài toán tìm đường dài ta chia thành tìm những đường ngắn hơn"
      ]
    },
    {
      "cell_type": "markdown",
      "metadata": {
        "id": "BSUXKDE9KBtT"
      },
      "source": [
        "\n",
        "# **3.Pattern Recognition**\n"
      ]
    },
    {
      "cell_type": "markdown",
      "metadata": {
        "id": "QTka-91vKDRa"
      },
      "source": [
        "+ Backtracking\n",
        "+ Recursion"
      ]
    },
    {
      "cell_type": "markdown",
      "metadata": {
        "id": "3ULCFe8sKdMz"
      },
      "source": [
        "# **4.Algorithm designed**\n"
      ]
    },
    {
      "cell_type": "markdown",
      "metadata": {
        "id": "pi99RUMNKf0D"
      },
      "source": [
        "Từ mối quan hệ đó là tìm những đường đi ngắn, dẫn đến phương pháp tiếp cận sau.\n",
        "\n",
        "**Phương pháp tiếp cận:**  Hình thành một hàm đệ quy, hàm này sẽ đi theo 1 con đường và kiểm tra có đến đích hay không. Nếu không đến đích thì quay lại chọn con đường khác\n",
        "\n",
        "\n",
        "1.   Tạo ma trận sol là ma trận 0\n",
        "2.   Tạo một hàm đệ quy\n",
        "3.   Nếu vị trí nằm ngoài ma trân hoặc không hợp lệ thì quay trờ lại\n",
        "4.   Đánh dấu vị trị đầu ra [x][y] là 1 và kiểm tra vị trí hiện lại có phải là đích hay không. Nếu là đích in ra ma trận và trả về.\n",
        "5.   Gọi đệ quy cho vị trí [x+1][y] hoặc [x][y+1]\n",
        "6.   Bỏ đánh dấu vị trí [x][y], tức maze[x][y] = 0   "
      ]
    },
    {
      "cell_type": "markdown",
      "metadata": {
        "id": "HipNtgTwKn8V"
      },
      "source": [
        "\n",
        "# **5.Đánh giá độ phức tạp thuật toán**\n"
      ]
    },
    {
      "cell_type": "markdown",
      "metadata": {
        "id": "0qwaXiEEKyW6"
      },
      "source": [
        "Độ phức tạp: O(4 ^ $N^2$)"
      ]
    },
    {
      "cell_type": "markdown",
      "metadata": {
        "id": "VnvZJFWHKrMf"
      },
      "source": [
        "# **6.Programming**"
      ]
    },
    {
      "cell_type": "code",
      "metadata": {
        "colab": {
          "base_uri": "https://localhost:8080/"
        },
        "id": "-6XmbtvI0o1w",
        "outputId": "9d78f8e8-0adb-46b1-8bc1-71a93b1c2397"
      },
      "source": [
        "import numpy as np\n",
        "\n",
        "\n",
        "def isSafe( maze, x, y, N):\n",
        "\tif x >= 0 and x < N and y >= 0 and y < N and maze[x][y] == 1:\n",
        "\t\treturn True\n",
        "\treturn False\n",
        "\n",
        "def solveMazeUtil(maze, x, y, sol, N):\n",
        "\t\n",
        "\tif x == N - 1 and y == N - 1 and maze[x][y]== 1:\n",
        "\t\tsol[x][y] = 1\n",
        "\t\treturn True\n",
        "\t\t\n",
        "\t\n",
        "\tif isSafe(maze, x, y, N) == True:\n",
        "\n",
        "\t\tif sol[x][y] == 1:\n",
        "\t\t\treturn False\n",
        "\t\t\n",
        "\t\tsol[x][y] = 1\n",
        "\t\t\n",
        "\n",
        "\t\tif solveMazeUtil(maze, x + 1, y, sol, N) == True:\n",
        "\t\t\treturn True\n",
        "\t\t\t\n",
        "\t\tif solveMazeUtil(maze, x, y + 1, sol, N) == True:\n",
        "\t\t\treturn True\n",
        "\t\t\n",
        "\t\tif solveMazeUtil(maze, x - 1, y, sol, N) == True:\n",
        "\t\t\treturn True\n",
        "\t\t\t\n",
        "\t\tif solveMazeUtil(maze, x, y - 1, sol, N) == True:\n",
        "\t\t\treturn True\n",
        "\n",
        "\t\tsol[x][y] = 0\n",
        "\t\treturn False\n",
        "\n",
        "def solveMaze( maze, N):\n",
        "\n",
        "\tsol = [ [ 0 for j in range(N) ] for i in range(N) ]\n",
        "\t\n",
        "\tif solveMazeUtil(maze, 0, 0, sol, N) == False:\n",
        "\t\tprint(\"DEATH\")\n",
        "\t\treturn \n",
        "\n",
        "\tprintSolution(sol)\n",
        "\t#return True\n",
        "\t\n",
        "def printSolution( sol ):\n",
        "    print(\"ALIVE\")\n",
        "    for i in sol:\n",
        "        for j in i:\n",
        "            print(str(j) + \" \", end = \"\")\n",
        "        print(\"\")\n",
        "\n",
        "\n",
        "path = \"/content/drive/MyDrive/UIT_K14/Semester_4/PT_TKTT/Seminar_Practice/inputMaze.txt\"\n",
        "# N = int(input())\n",
        "# tmp = np.random.choice([0, 1], size = (N, N), p = [1./3, 2./3])\n",
        "# tmp[0][0] = 1; tmp[N-1][N-1] = 1\n",
        "# solveMaze(tmp, N)\n",
        "\n",
        "with open(path) as f:\n",
        "    content = f.readlines()\n",
        "\n",
        "lenth = len(content)\n",
        "i = 0\n",
        "T = int(content[i]); i += 1;\n",
        "for _ in range(T):\n",
        "    N = int(content[i]); i += 1;\n",
        "    maze = []\n",
        "    l = N + i\n",
        "    while (i < l):\n",
        "        tmp = list(map(int, content[i].split())); i += 1;\n",
        "        maze.append(tmp)\n",
        "\n",
        "\n",
        "    # print(tmp, '\\n----------------------------\\n')\n",
        "    solveMaze(maze, N)\n",
        "\n"
      ],
      "execution_count": null,
      "outputs": [
        {
          "output_type": "stream",
          "text": [
            "ALIVE\n",
            "1 1 1 1 0 0 0 0 0 0 0 0 0 0 \n",
            "0 0 0 1 0 0 0 0 0 0 0 0 0 0 \n",
            "0 1 1 1 0 0 0 0 0 0 0 0 0 0 \n",
            "0 1 0 0 0 0 0 0 0 0 0 0 0 0 \n",
            "1 1 0 0 0 0 0 0 0 0 0 0 0 0 \n",
            "1 0 0 1 1 1 0 0 0 0 0 0 0 0 \n",
            "1 0 1 1 0 1 0 0 0 0 0 0 0 0 \n",
            "1 1 1 0 0 1 0 0 0 0 0 0 0 0 \n",
            "1 1 0 0 0 1 0 0 0 0 0 0 0 0 \n",
            "1 1 0 0 0 1 1 1 0 0 0 0 0 0 \n",
            "0 0 0 0 0 0 0 1 0 0 0 0 0 0 \n",
            "0 0 0 0 0 0 0 1 1 1 0 0 0 0 \n",
            "0 0 0 0 0 0 0 0 0 1 0 0 0 0 \n",
            "0 0 0 0 0 0 0 0 0 1 1 1 1 1 \n",
            "ALIVE\n",
            "1 0 0 0 0 \n",
            "1 0 0 0 0 \n",
            "1 0 0 0 0 \n",
            "1 1 1 1 0 \n",
            "1 1 0 1 1 \n",
            "DEATH\n",
            "ALIVE\n",
            "1 0 0 0 0 0 0 0 0 0 0 0 \n",
            "1 0 0 0 0 0 0 0 0 0 0 0 \n",
            "1 1 0 0 0 0 0 0 0 0 0 0 \n",
            "0 1 0 0 0 0 0 0 0 0 0 0 \n",
            "0 1 1 1 0 0 0 0 0 0 0 0 \n",
            "0 0 0 1 0 0 0 0 0 0 0 0 \n",
            "0 0 0 1 0 0 0 0 0 0 0 0 \n",
            "0 0 0 1 0 0 0 0 0 0 0 0 \n",
            "0 0 0 1 0 0 0 0 0 0 0 0 \n",
            "0 0 0 1 1 0 0 0 0 0 0 0 \n",
            "0 0 0 0 1 1 1 1 1 0 0 0 \n",
            "0 0 0 0 0 0 0 0 1 1 1 1 \n",
            "ALIVE\n",
            "1 1 1 0 0 0 0 0 0 0 0 0 0 0 0 0 0 0 0 0 0 0 0 0 0 0 \n",
            "0 0 1 0 0 0 0 0 0 0 0 0 0 0 0 0 0 0 0 0 0 0 0 0 0 0 \n",
            "0 0 1 0 0 0 0 0 0 0 0 0 0 0 0 0 0 0 0 0 0 0 0 0 0 0 \n",
            "0 0 1 0 0 0 0 0 0 0 0 0 0 0 0 0 0 0 0 0 0 0 0 0 0 0 \n",
            "0 0 1 1 1 1 1 0 0 0 0 0 0 0 0 0 0 0 0 0 0 0 0 0 0 0 \n",
            "0 0 0 0 0 0 1 0 0 0 0 0 0 0 0 0 0 0 0 0 0 0 0 0 0 0 \n",
            "0 0 0 0 0 0 1 0 0 0 0 0 0 0 0 0 0 0 0 0 0 0 0 0 0 0 \n",
            "0 0 0 0 0 0 1 1 1 0 0 0 0 0 0 0 0 0 0 0 0 0 0 0 0 0 \n",
            "0 0 0 0 0 0 0 0 1 0 0 0 0 0 0 0 0 0 0 0 0 0 0 0 0 0 \n",
            "0 0 0 0 0 0 0 0 1 0 0 0 0 0 0 0 0 0 0 0 0 0 0 0 0 0 \n",
            "0 0 0 0 0 0 0 0 1 0 0 0 0 0 0 0 0 0 0 0 0 0 0 0 0 0 \n",
            "0 0 0 0 0 0 0 0 1 0 0 0 0 0 0 0 0 0 0 0 0 0 0 0 0 0 \n",
            "0 0 0 0 0 0 0 0 1 0 0 0 0 0 0 0 0 0 0 0 0 0 0 0 0 0 \n",
            "0 0 0 0 0 0 0 0 1 0 0 0 0 0 0 0 0 0 0 0 0 0 0 0 0 0 \n",
            "0 0 0 0 0 0 0 0 1 1 0 0 0 0 0 0 0 0 0 0 0 0 0 0 0 0 \n",
            "0 0 0 0 0 0 0 0 0 1 0 0 0 0 0 0 0 0 0 0 0 0 0 0 0 0 \n",
            "0 0 0 0 0 0 0 0 1 1 0 0 0 0 0 0 0 0 0 0 0 0 0 0 0 0 \n",
            "0 0 0 0 0 0 0 0 1 0 0 0 0 0 0 0 0 0 0 0 0 0 0 0 0 0 \n",
            "0 0 0 0 0 0 0 0 1 0 0 0 0 0 0 0 0 0 0 0 0 0 0 0 0 0 \n",
            "0 0 0 0 0 0 0 0 1 0 0 0 0 0 0 0 0 0 0 0 0 0 0 0 0 0 \n",
            "0 0 0 0 0 0 0 0 1 0 0 0 1 1 1 1 1 0 0 0 0 0 0 0 0 0 \n",
            "0 0 0 0 0 0 0 0 1 1 0 0 1 0 0 0 1 1 1 0 0 0 0 0 0 0 \n",
            "0 0 0 0 0 0 0 0 0 1 1 0 1 0 0 0 0 0 1 0 0 0 0 0 0 0 \n",
            "0 0 0 0 0 0 0 0 0 0 1 1 1 0 0 0 0 0 1 0 0 0 0 0 0 0 \n",
            "0 0 0 0 0 0 0 0 0 0 0 0 0 0 0 0 0 0 1 1 1 1 1 1 1 0 \n",
            "0 0 0 0 0 0 0 0 0 0 0 0 0 0 0 0 0 0 0 1 1 0 0 0 1 1 \n"
          ],
          "name": "stdout"
        }
      ]
    },
    {
      "cell_type": "code",
      "metadata": {
        "id": "7Ls4xnhZPgiC"
      },
      "source": [
        "4**100"
      ],
      "execution_count": null,
      "outputs": []
    }
  ]
}