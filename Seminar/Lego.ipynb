{
  "nbformat": 4,
  "nbformat_minor": 0,
  "metadata": {
    "colab": {
      "name": "Lego.ipynb",
      "provenance": [],
      "collapsed_sections": [
        "w0PL5sfElpFs",
        "nYmN7Os6l3AV",
        "p4EdimWOl9EA",
        "8OHbp1JlmAen"
      ],
      "toc_visible": true,
      "include_colab_link": true
    },
    "kernelspec": {
      "name": "python3",
      "display_name": "Python 3"
    },
    "language_info": {
      "name": "python"
    }
  },
  "cells": [
    {
      "cell_type": "markdown",
      "metadata": {
        "id": "view-in-github",
        "colab_type": "text"
      },
      "source": [
        "<a href=\"https://colab.research.google.com/github/bdts1547/CS112.L21.KHTN_N11/blob/main/Seminar/Lego.ipynb\" target=\"_parent\"><img src=\"https://colab.research.google.com/assets/colab-badge.svg\" alt=\"Open In Colab\"/></a>"
      ]
    },
    {
      "cell_type": "markdown",
      "metadata": {
        "id": "Cu750CGEjGiz"
      },
      "source": [
        "# Đề bài"
      ]
    },
    {
      "cell_type": "markdown",
      "metadata": {
        "id": "gCicQLNdjjpg"
      },
      "source": [
        "Bạn có 4 loại khối lego có kích thước như (chiều sâu x chiều cao x chiều rộng):\n",
        "\n",
        "![image.png](data:image/png;base64,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)\n",
        "\n",
        "Sử dụng các khối này, ta tạo ra bức tường có chiều cao n và chiều rộng m. đặc điểm của tường là: \n",
        "\n",
        "- Không có lỗ.\n",
        "\n",
        "- Không có vết đứt dọc trên tất cả các hàng.\n",
        "\n",
        "- Viên gạch đặt ngang.\n",
        "\n",
        "Có bao nhiêu cách xây tường? \n"
      ]
    },
    {
      "cell_type": "markdown",
      "metadata": {
        "id": "vWbr_k8Ak0Uj"
      },
      "source": [
        "\n",
        "\n",
        "Mô tả chức năng\n",
        "\n",
        "legoBlocks có (các) tham số sau:\n",
        "\n",
        "  - int n: chiều cao của bức tường\n",
        "  - int m: chiều rộng của bức tường\n",
        "Trả về\n",
        "  int: số mô-đun cấu tạo tường hợp lệ ($10^9 +7$)\n",
        "\n",
        "Định dạng đầu vào\n",
        "\n",
        " - Mỗi cái tiếp theo  dòng chứa hai số nguyên được phân tách bằng dấu cách n và m .\n",
        "\n",
        "Ràng buộc:\n",
        "\n",
        "- 1<=n, m<=1000\n",
        "\n",
        "\n",
        "\n"
      ]
    },
    {
      "cell_type": "markdown",
      "metadata": {
        "id": "p4EdimWOl9EA"
      },
      "source": [
        "# 1. Abstraction"
      ]
    },
    {
      "cell_type": "markdown",
      "metadata": {
        "id": "elekKQ2mOHuS"
      },
      "source": [
        "Cho một bức tường có chiều cao N và chiều rộng M.\n",
        "+ Tính toàn bộ số cách sắp xếp rồi trừ đi số cách sắp xếp sai"
      ]
    },
    {
      "cell_type": "markdown",
      "metadata": {
        "id": "w0PL5sfElpFs"
      },
      "source": [
        "# 2. Decomposition"
      ]
    },
    {
      "cell_type": "markdown",
      "metadata": {
        "id": "6boRdpCCmI6A"
      },
      "source": [
        "Sau khi Abstraction thì ta thấy có thể chia bài toán thành 2 bài toán con như sau:\n",
        "\n",
        "1.   Tính tất cả số cách xếp.(4 loại thành 1 hàng ngang)\n",
        "\n",
        "    + Tính số cách xếp trên từng hàng. Sau đó tính cách xếp toàn bộ dựa trên các hàng đã tính.  \n",
        "2.   Tính số cách xếp sai.(Có một vết nứt dọc trên tất cả hàng gạch)\n",
        "\n",
        "Đáp án: (1) - (2)\n"
      ]
    },
    {
      "cell_type": "markdown",
      "metadata": {
        "id": "nYmN7Os6l3AV"
      },
      "source": [
        "# 3. Pattern Recognition"
      ]
    },
    {
      "cell_type": "markdown",
      "metadata": {
        "id": "UDgZkI72mm1F"
      },
      "source": [
        "Bài toán đếm: đếm số cách chọn 4 viên gạch xếp vào một bức tường sao cho thỏa mãn yêu cầu đề bài"
      ]
    },
    {
      "cell_type": "markdown",
      "metadata": {
        "id": "8OHbp1JlmAen"
      },
      "source": [
        "# 4. Algorithm Design"
      ]
    },
    {
      "cell_type": "markdown",
      "metadata": {
        "id": "dXCmoEmLOXCi"
      },
      "source": [
        "Từ những mối quan hệ mà ta đã decomposition dẫn đến phương pháp thiết kế như này:\n",
        "\n",
        "- Gọi $f[i]$ là số cách chọn ứng với chiều dài i.(tính luôn cả cách sai)\n",
        "\n",
        "- Số cách chọn hình có kích thước N * i là: $g[i]$ = $f[i]^n$ (tính luôn cả cách sai)\n",
        "\n",
        "- Giả sử ta đã đặt được khối (1 x k) thì phần còn lại cần đặt có độ dài (i - k) vì vậy phần còn lại sẽ có cách chọn là $f[i-k]$.\n",
        "\n",
        "- Vậy: \n",
        "    \n",
        "    ![image.png](data:image/png;base64,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)\n",
        "\n",
        "- Ta có $g[m]$ là số cách chọn với kích thước N * M, và để loại bỏ các trường hợp không chắc chắn:\n",
        "  \n",
        "    + Ta giả sử h[i] là số cách chọn thỏa yêu cầu bài toán kích thước N * i, khi đó số cách chọn theo yêu cầu đề ra là:\n",
        "\n",
        "  ![image.png](data:image/png;base64,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)\n",
        "\n",
        "- Số cách xây bức tường là: $h[m]$. "
      ]
    },
    {
      "cell_type": "markdown",
      "metadata": {
        "id": "Fn8fg3cSR0ZL"
      },
      "source": [
        "# 5. Độ phức tạp của thuật toán."
      ]
    },
    {
      "cell_type": "markdown",
      "metadata": {
        "id": "iEKZIU3gR8G1"
      },
      "source": [
        "O(nlogn +$m^2$)"
      ]
    },
    {
      "cell_type": "markdown",
      "metadata": {
        "id": "04qukpo6SFwf"
      },
      "source": [
        "# 6. Programing"
      ]
    },
    {
      "cell_type": "code",
      "metadata": {
        "id": "gkkNFit_SLal"
      },
      "source": [
        "import sys\n",
        "import time\n",
        "\n",
        "\n",
        "MOD = 1000000007\n",
        "# tính mũ n\n",
        "# nếu đã tồn tại trong memoize trả về còn không thì tính\n",
        "def cal_power(base, n):\n",
        "    if n <= 2:\n",
        "        return (base ** n) % MOD\n",
        "    else:\n",
        "        result = (power(base, n // 2) ** 2)\n",
        "        if n % 2 == 1:\n",
        "            result = (result * base)\n",
        "        return result % MOD\n",
        "    \n",
        "memoize = {}\n",
        "def power(base, n):    \n",
        "    if  (memoize not in (base,n)):\n",
        "        memoize[(base, n)] = cal_power(base, n)\n",
        "    return memoize[(base, n)]\n",
        "\n",
        "\n",
        "    \n",
        "# path = \"/content/drive/MyDrive/UIT_K14/Semester_4/PT_TKTT/Test/lego2.in\"\n",
        "path = \"/content/drive/MyDrive/UIT_K14/Semester_4/PT_TKTT/Seminar_Practice/inputLego.txt\"\n",
        "with open(path) as f:\n",
        "    content = f.readlines()\n",
        "\n",
        "T = int(content[0])\n",
        "\n",
        "for k in range(1, T + 1):\n",
        "    # [N, M] = map(int, input().split());\n",
        "    N, M = map(int, content[k].split())\n",
        "\n",
        "    f = [0 for x in range(0, M+1)]\n",
        "    h = [0 for x in range(0, M+1)]\n",
        "    g = [0 for x in range(0, M+1)]\n",
        "    f[0] = 1\n",
        "\n",
        "    # ST = time.time()\n",
        "\n",
        "    for i in range(1, M+1):\n",
        "        for j in range(1,5):\n",
        "            if (i - j >= 0):\n",
        "                f[i] = f[i] + f[i-j]; # tính số cách chọn với kích thước 1*i\n",
        "                g[i] = power(f[i], N) # tính số cách chọn kích thước n*i\n",
        "                # g[i] = f[i] ** N\n",
        "                # print(f)\n",
        "                # print(g)\n",
        "\n",
        "\n",
        "    h[1] = 1\n",
        "    for i in range (1, M+1):\n",
        "        h[i] = g[i] \n",
        "        temp = 0\n",
        "        for j in range(1, i):            \n",
        "            temp = temp +(h[j] * g[i-j]) % MOD # số cách mà tường không vững chắc từ 1 tới i\n",
        "            #print(temp)\n",
        "            h[i] = (g[i] - temp) % MOD # số cách xây tường  với kích thước n*i \n",
        "            \n",
        "    # ET = time.time()\n",
        "\n",
        "    print (h[M])\n",
        "\n",
        "    # print('Time: ', ET - ST , 'sec')\n",
        "\n",
        "# 1000 x 1000: 324s"
      ],
      "execution_count": null,
      "outputs": []
    },
    {
      "cell_type": "code",
      "metadata": {
        "colab": {
          "base_uri": "https://localhost:8080/"
        },
        "id": "6iAO_bEDOhCt",
        "outputId": "c92c8017-546a-4ef3-a8d5-48a184135b99"
      },
      "source": [
        "from google.colab import drive\n",
        "drive.mount('/content/drive')"
      ],
      "execution_count": null,
      "outputs": [
        {
          "output_type": "stream",
          "text": [
            "Mounted at /content/drive\n"
          ],
          "name": "stdout"
        }
      ]
    },
    {
      "cell_type": "code",
      "metadata": {
        "id": "kyaU4z49DkMS"
      },
      "source": [
        ""
      ],
      "execution_count": null,
      "outputs": []
    }
  ]
}